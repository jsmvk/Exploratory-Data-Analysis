{
 "cells": [
  {
   "cell_type": "code",
   "execution_count": 120,
   "id": "2b1d5080",
   "metadata": {},
   "outputs": [],
   "source": [
    "import numpy as np\n",
    "import pandas as pd\n",
    "import seaborn as sns\n",
    "\n",
    "df = pd.read_csv('Desktop\\projects\\eda project\\IT Salary Survey EU 2019.csv', sep = \",\")"
   ]
  },
  {
   "cell_type": "code",
   "execution_count": 121,
   "id": "7fcc848e",
   "metadata": {},
   "outputs": [
    {
     "data": {
      "text/html": [
       "<div>\n",
       "<style scoped>\n",
       "    .dataframe tbody tr th:only-of-type {\n",
       "        vertical-align: middle;\n",
       "    }\n",
       "\n",
       "    .dataframe tbody tr th {\n",
       "        vertical-align: top;\n",
       "    }\n",
       "\n",
       "    .dataframe thead th {\n",
       "        text-align: right;\n",
       "    }\n",
       "</style>\n",
       "<table border=\"1\" class=\"dataframe\">\n",
       "  <thead>\n",
       "    <tr style=\"text-align: right;\">\n",
       "      <th></th>\n",
       "      <th>Zeitstempel</th>\n",
       "      <th>Age</th>\n",
       "      <th>Gender</th>\n",
       "      <th>City</th>\n",
       "      <th>Seniority level</th>\n",
       "      <th>Position (without seniority)</th>\n",
       "      <th>Years of experience</th>\n",
       "      <th>Your main technology / programming language</th>\n",
       "      <th>Yearly brutto salary (without bonus and stocks)</th>\n",
       "      <th>Yearly bonus</th>\n",
       "      <th>...</th>\n",
       "      <th>Yearly stocks one year ago. Only answer if staying in same country</th>\n",
       "      <th>Number of vacation days</th>\n",
       "      <th>Number of home office days per month</th>\n",
       "      <th>Main language at work</th>\n",
       "      <th>Company name</th>\n",
       "      <th>Company size</th>\n",
       "      <th>Company type</th>\n",
       "      <th>Сontract duration</th>\n",
       "      <th>Company business sector</th>\n",
       "      <th>0</th>\n",
       "    </tr>\n",
       "  </thead>\n",
       "  <tbody>\n",
       "    <tr>\n",
       "      <th>0</th>\n",
       "      <td>02.12.2019 11:18:26</td>\n",
       "      <td>33.0</td>\n",
       "      <td>Male</td>\n",
       "      <td>Berlin</td>\n",
       "      <td>Senior</td>\n",
       "      <td>Fullstack Developer</td>\n",
       "      <td>13</td>\n",
       "      <td>PHP</td>\n",
       "      <td>64000.0</td>\n",
       "      <td>1000.0</td>\n",
       "      <td>...</td>\n",
       "      <td>NaN</td>\n",
       "      <td>29.0</td>\n",
       "      <td>4.0</td>\n",
       "      <td>English</td>\n",
       "      <td>NaN</td>\n",
       "      <td>50-100</td>\n",
       "      <td>Startup</td>\n",
       "      <td>unlimited</td>\n",
       "      <td>Tourism</td>\n",
       "      <td>NaN</td>\n",
       "    </tr>\n",
       "    <tr>\n",
       "      <th>1</th>\n",
       "      <td>02.12.2019 11:18:35</td>\n",
       "      <td>29.0</td>\n",
       "      <td>Male</td>\n",
       "      <td>Berlin</td>\n",
       "      <td>Middle</td>\n",
       "      <td>Backend Developer</td>\n",
       "      <td>3</td>\n",
       "      <td>Python</td>\n",
       "      <td>55000.0</td>\n",
       "      <td>NaN</td>\n",
       "      <td>...</td>\n",
       "      <td>NaN</td>\n",
       "      <td>22.0</td>\n",
       "      <td>4.0</td>\n",
       "      <td>English</td>\n",
       "      <td>NaN</td>\n",
       "      <td>Oct-50</td>\n",
       "      <td>Product</td>\n",
       "      <td>unlimited</td>\n",
       "      <td>Scientific Activities</td>\n",
       "      <td>NaN</td>\n",
       "    </tr>\n",
       "    <tr>\n",
       "      <th>2</th>\n",
       "      <td>02.12.2019 11:18:56</td>\n",
       "      <td>NaN</td>\n",
       "      <td>Male</td>\n",
       "      <td>Berlin</td>\n",
       "      <td>Middle</td>\n",
       "      <td>Mobile Developer</td>\n",
       "      <td>4</td>\n",
       "      <td>Kotlin</td>\n",
       "      <td>70000.0</td>\n",
       "      <td>NaN</td>\n",
       "      <td>...</td>\n",
       "      <td>NaN</td>\n",
       "      <td>27.0</td>\n",
       "      <td>NaN</td>\n",
       "      <td>English</td>\n",
       "      <td>NaN</td>\n",
       "      <td>1000+</td>\n",
       "      <td>Startup</td>\n",
       "      <td>unlimited</td>\n",
       "      <td>NaN</td>\n",
       "      <td>NaN</td>\n",
       "    </tr>\n",
       "    <tr>\n",
       "      <th>3</th>\n",
       "      <td>02.12.2019 11:19:08</td>\n",
       "      <td>30.0</td>\n",
       "      <td>Male</td>\n",
       "      <td>Berlin</td>\n",
       "      <td>Senior</td>\n",
       "      <td>Backend Developer</td>\n",
       "      <td>6</td>\n",
       "      <td>PHP</td>\n",
       "      <td>63000.0</td>\n",
       "      <td>NaN</td>\n",
       "      <td>...</td>\n",
       "      <td>NaN</td>\n",
       "      <td>24.0</td>\n",
       "      <td>NaN</td>\n",
       "      <td>English</td>\n",
       "      <td>Auto1</td>\n",
       "      <td>100-1000</td>\n",
       "      <td>Product</td>\n",
       "      <td>unlimited</td>\n",
       "      <td>Transport</td>\n",
       "      <td>NaN</td>\n",
       "    </tr>\n",
       "    <tr>\n",
       "      <th>4</th>\n",
       "      <td>02.12.2019 11:19:37</td>\n",
       "      <td>32.0</td>\n",
       "      <td>Male</td>\n",
       "      <td>Berlin</td>\n",
       "      <td>Senior</td>\n",
       "      <td>Embedded Developer</td>\n",
       "      <td>10</td>\n",
       "      <td>C/C++</td>\n",
       "      <td>66000.0</td>\n",
       "      <td>NaN</td>\n",
       "      <td>...</td>\n",
       "      <td>NaN</td>\n",
       "      <td>30.0</td>\n",
       "      <td>0.0</td>\n",
       "      <td>English</td>\n",
       "      <td>Luxoft</td>\n",
       "      <td>50-100</td>\n",
       "      <td>Product</td>\n",
       "      <td>unlimited</td>\n",
       "      <td>Automotive</td>\n",
       "      <td>NaN</td>\n",
       "    </tr>\n",
       "  </tbody>\n",
       "</table>\n",
       "<p>5 rows × 23 columns</p>\n",
       "</div>"
      ],
      "text/plain": [
       "           Zeitstempel   Age Gender    City Seniority level  \\\n",
       "0  02.12.2019 11:18:26  33.0   Male  Berlin          Senior   \n",
       "1  02.12.2019 11:18:35  29.0   Male  Berlin          Middle   \n",
       "2  02.12.2019 11:18:56   NaN   Male  Berlin          Middle   \n",
       "3  02.12.2019 11:19:08  30.0   Male  Berlin          Senior   \n",
       "4  02.12.2019 11:19:37  32.0   Male  Berlin          Senior   \n",
       "\n",
       "  Position (without seniority)  Years of experience  \\\n",
       "0          Fullstack Developer                   13   \n",
       "1            Backend Developer                    3   \n",
       "2             Mobile Developer                    4   \n",
       "3            Backend Developer                    6   \n",
       "4           Embedded Developer                   10   \n",
       "\n",
       "  Your main technology / programming language  \\\n",
       "0                                         PHP   \n",
       "1                                      Python   \n",
       "2                                      Kotlin   \n",
       "3                                         PHP   \n",
       "4                                       C/C++   \n",
       "\n",
       "   Yearly brutto salary (without bonus and stocks)  Yearly bonus  ...  \\\n",
       "0                                          64000.0        1000.0  ...   \n",
       "1                                          55000.0           NaN  ...   \n",
       "2                                          70000.0           NaN  ...   \n",
       "3                                          63000.0           NaN  ...   \n",
       "4                                          66000.0           NaN  ...   \n",
       "\n",
       "   Yearly stocks one year ago. Only answer if staying in same country  \\\n",
       "0                                                NaN                    \n",
       "1                                                NaN                    \n",
       "2                                                NaN                    \n",
       "3                                                NaN                    \n",
       "4                                                NaN                    \n",
       "\n",
       "   Number of vacation days  Number of home office days per month  \\\n",
       "0                     29.0                                   4.0   \n",
       "1                     22.0                                   4.0   \n",
       "2                     27.0                                   NaN   \n",
       "3                     24.0                                   NaN   \n",
       "4                     30.0                                   0.0   \n",
       "\n",
       "   Main language at work  Company name   Company size Company type  \\\n",
       "0                English            NaN        50-100      Startup   \n",
       "1                English            NaN        Oct-50      Product   \n",
       "2                English            NaN         1000+      Startup   \n",
       "3                English          Auto1      100-1000      Product   \n",
       "4                English         Luxoft        50-100      Product   \n",
       "\n",
       "  Сontract duration Company business sector   0  \n",
       "0         unlimited                 Tourism NaN  \n",
       "1         unlimited   Scientific Activities NaN  \n",
       "2         unlimited                     NaN NaN  \n",
       "3         unlimited               Transport NaN  \n",
       "4         unlimited              Automotive NaN  \n",
       "\n",
       "[5 rows x 23 columns]"
      ]
     },
     "execution_count": 121,
     "metadata": {},
     "output_type": "execute_result"
    }
   ],
   "source": [
    "df.head()"
   ]
  },
  {
   "cell_type": "code",
   "execution_count": 3,
   "id": "f557a2ac",
   "metadata": {},
   "outputs": [
    {
     "data": {
      "text/plain": [
       "Index(['Zeitstempel', 'Age', 'Gender', 'City', 'Seniority level',\n",
       "       'Position (without seniority)', 'Years of experience',\n",
       "       'Your main technology / programming language',\n",
       "       'Yearly brutto salary (without bonus and stocks)', 'Yearly bonus',\n",
       "       'Yearly stocks',\n",
       "       'Yearly brutto salary (without bonus and stocks) one year ago. Only answer if staying in same country',\n",
       "       'Yearly bonus one year ago. Only answer if staying in same country',\n",
       "       'Yearly stocks one year ago. Only answer if staying in same country',\n",
       "       'Number of vacation days', 'Number of home office days per month',\n",
       "       'Main language at work', 'Company name ', 'Company size',\n",
       "       'Company type', 'Сontract duration', 'Company business sector', '0'],\n",
       "      dtype='object')"
      ]
     },
     "execution_count": 3,
     "metadata": {},
     "output_type": "execute_result"
    }
   ],
   "source": [
    "df.columns"
   ]
  },
  {
   "cell_type": "markdown",
   "id": "cc9b6817",
   "metadata": {},
   "source": [
    "# Data cleaning"
   ]
  },
  {
   "cell_type": "markdown",
   "id": "95b46dd9",
   "metadata": {},
   "source": [
    "Standarization of column names"
   ]
  },
  {
   "cell_type": "code",
   "execution_count": 4,
   "id": "495663bd",
   "metadata": {},
   "outputs": [],
   "source": [
    "df = df.rename(columns = {\"Age\": \"age\", \"Gender\": \"gender\", \"City\":\"city\", \"Zeitstempel\": \"survey_time\", \n",
    "          \"Position (without seniority)\": \"position\", \n",
    "          \"Your main technology / programming language\": \"main_technology\",\n",
    "        \"Years of experience\":\"experience_years\",\n",
    "        \"Seniority level\":\"seniority\",\n",
    "         \"Yearly brutto salary (without bonus and stocks)\": \"yearly_brutto_salary\",\n",
    "         \"Yearly brutto salary (without bonus and stocks) one year ago. Only answer if staying in same country\": \"yearly_brutto_salary_2018\",\n",
    "         \"Yearly bonus one year ago. Only answer if staying in same country\": \"yearly_bonus_2018\",\n",
    "       \"Yearly stocks one year ago. Only answer if staying in same country\": \"yearly_stocks_2018\",\n",
    "         \"Yearly stocks\": \"yearly_stocks\",\n",
    "         \"Yearly bonus\": \"yearly_bonus\",\n",
    "         \"Number of vacation days\": \"vacation_days\",\n",
    "         \"Number of home office days per month\": \"home_office_days_monthly\",\n",
    "         \"Main language at work\": \"work_language\",\n",
    "         \"Company name \": \"company_name\", \n",
    "         \"Company size\": \"company_size\",\n",
    "         \"Company type\": \"company_type\",\n",
    "         \"Сontract duration\": \"contract_duration\",\n",
    "         \"Company business sector\": \"business_industry\"})"
   ]
  },
  {
   "cell_type": "code",
   "execution_count": 5,
   "id": "1864afcb",
   "metadata": {},
   "outputs": [
    {
     "name": "stdout",
     "output_type": "stream",
     "text": [
      "<class 'pandas.core.frame.DataFrame'>\n",
      "RangeIndex: 991 entries, 0 to 990\n",
      "Data columns (total 23 columns):\n",
      " #   Column                     Non-Null Count  Dtype  \n",
      "---  ------                     --------------  -----  \n",
      " 0   survey_time                991 non-null    object \n",
      " 1   age                        882 non-null    float64\n",
      " 2   gender                     991 non-null    object \n",
      " 3   city                       991 non-null    object \n",
      " 4   seniority                  976 non-null    object \n",
      " 5   position                   990 non-null    object \n",
      " 6   experience_years           991 non-null    int64  \n",
      " 7   main_technology            977 non-null    object \n",
      " 8   yearly_brutto_salary       990 non-null    float64\n",
      " 9   yearly_bonus               530 non-null    float64\n",
      " 10  yearly_stocks              203 non-null    float64\n",
      " 11  yearly_brutto_salary_2018  603 non-null    float64\n",
      " 12  yearly_bonus_2018          257 non-null    float64\n",
      " 13  yearly_stocks_2018         139 non-null    float64\n",
      " 14  vacation_days              931 non-null    float64\n",
      " 15  home_office_days_monthly   639 non-null    float64\n",
      " 16  work_language              986 non-null    object \n",
      " 17  company_name               257 non-null    object \n",
      " 18  company_size               977 non-null    object \n",
      " 19  company_type               960 non-null    object \n",
      " 20  contract_duration          962 non-null    object \n",
      " 21  business_industry          846 non-null    object \n",
      " 22  0                          0 non-null      float64\n",
      "dtypes: float64(10), int64(1), object(12)\n",
      "memory usage: 178.2+ KB\n"
     ]
    }
   ],
   "source": [
    "df.info()"
   ]
  },
  {
   "cell_type": "code",
   "execution_count": 6,
   "id": "09007629",
   "metadata": {},
   "outputs": [],
   "source": [
    "df.drop(['survey_time'], axis = 1, inplace = True) # dropping unnecessary column"
   ]
  },
  {
   "cell_type": "code",
   "execution_count": 7,
   "id": "b3dce468",
   "metadata": {},
   "outputs": [
    {
     "data": {
      "text/plain": [
       "991"
      ]
     },
     "execution_count": 7,
     "metadata": {},
     "output_type": "execute_result"
    }
   ],
   "source": [
    "len(df.index) # check number of rows"
   ]
  },
  {
   "cell_type": "markdown",
   "id": "e39461ab",
   "metadata": {},
   "source": [
    "Process of nulls elimination"
   ]
  },
  {
   "cell_type": "code",
   "execution_count": 8,
   "id": "71d5aeee",
   "metadata": {
    "scrolled": true
   },
   "outputs": [
    {
     "name": "stdout",
     "output_type": "stream",
     "text": [
      "age                          109\n",
      "gender                         0\n",
      "city                           0\n",
      "seniority                     15\n",
      "position                       1\n",
      "experience_years               0\n",
      "main_technology               14\n",
      "yearly_brutto_salary           1\n",
      "yearly_bonus                 461\n",
      "yearly_stocks                788\n",
      "yearly_brutto_salary_2018    388\n",
      "yearly_bonus_2018            734\n",
      "yearly_stocks_2018           852\n",
      "vacation_days                 60\n",
      "home_office_days_monthly     352\n",
      "work_language                  5\n",
      "company_name                 734\n",
      "company_size                  14\n",
      "company_type                  31\n",
      "contract_duration             29\n",
      "business_industry            145\n",
      "0                            991\n",
      "dtype: int64\n"
     ]
    }
   ],
   "source": [
    "print(df.isnull().sum()) # check number of nulls"
   ]
  },
  {
   "cell_type": "code",
   "execution_count": 9,
   "id": "5362b4c2",
   "metadata": {},
   "outputs": [],
   "source": [
    "df.drop('0', axis = 1, inplace = True) # dropping unnecessary column"
   ]
  },
  {
   "cell_type": "code",
   "execution_count": 10,
   "id": "e5bed022",
   "metadata": {},
   "outputs": [],
   "source": [
    "df.drop('company_name', axis = 1, inplace = True) # dropping unnecessary column"
   ]
  },
  {
   "cell_type": "code",
   "execution_count": 11,
   "id": "ce977b05",
   "metadata": {},
   "outputs": [],
   "source": [
    "#Columns: \n",
    "#work_language -> fill with \"English\" cause everyone speaks it\n",
    "#Age -> fill with median of age\n",
    "#vacation days -> fill nan with \"0\" (assumption that those who didn't fill that didn't use vacation days)\n",
    "#office days monthly -> fill nan with median"
   ]
  },
  {
   "cell_type": "code",
   "execution_count": 12,
   "id": "0dd866e2",
   "metadata": {},
   "outputs": [],
   "source": [
    "df['age'].fillna(df['age'].median(), inplace = True)"
   ]
  },
  {
   "cell_type": "code",
   "execution_count": 13,
   "id": "2fd54693",
   "metadata": {},
   "outputs": [],
   "source": [
    "df['work_language'].fillna(\"English\", inplace = True)"
   ]
  },
  {
   "cell_type": "code",
   "execution_count": 14,
   "id": "0825a203",
   "metadata": {},
   "outputs": [],
   "source": [
    "df = df[df['position'].notna()]\n",
    "df = df[df['yearly_brutto_salary'].notna()]"
   ]
  },
  {
   "cell_type": "code",
   "execution_count": 15,
   "id": "1800567e",
   "metadata": {},
   "outputs": [],
   "source": [
    "df['vacation_days'].fillna(0, inplace = True)"
   ]
  },
  {
   "cell_type": "code",
   "execution_count": 16,
   "id": "dce2f975",
   "metadata": {},
   "outputs": [
    {
     "data": {
      "text/plain": [
       "0      4\n",
       "1      4\n",
       "2      2\n",
       "3      2\n",
       "4      2\n",
       "      ..\n",
       "986    5\n",
       "987    5\n",
       "988    5\n",
       "989    6\n",
       "990    5\n",
       "Name: home_office_days_monthly, Length: 989, dtype: int32"
      ]
     },
     "execution_count": 16,
     "metadata": {},
     "output_type": "execute_result"
    }
   ],
   "source": [
    "df['home_office_days_monthly'].fillna(32, inplace = True) #32 > days a month\n",
    "df['home_office_days_monthly'] = df['home_office_days_monthly'].astype(int)\n",
    "df['home_office_days_monthly'].replace(32, 0, inplace = True)\n",
    "df['home_office_days_monthly'].replace(0, df['home_office_days_monthly'].median(), inplace = True)\n",
    "\n",
    "df['home_office_days_monthly']"
   ]
  },
  {
   "cell_type": "code",
   "execution_count": 17,
   "id": "bd9fce26",
   "metadata": {},
   "outputs": [],
   "source": [
    "delete_office_days = df[df['home_office_days_monthly'] > 20].index"
   ]
  },
  {
   "cell_type": "code",
   "execution_count": 18,
   "id": "ff1f49d1",
   "metadata": {},
   "outputs": [],
   "source": [
    "df.drop(delete_office_days, inplace = True)"
   ]
  },
  {
   "cell_type": "code",
   "execution_count": 19,
   "id": "9177d0e4",
   "metadata": {},
   "outputs": [
    {
     "name": "stdout",
     "output_type": "stream",
     "text": [
      "unlimited             846\n",
      "more than 1 year       58\n",
      "1 year                 40\n",
      "6 months                7\n",
      "3 months                4\n",
      "less than 3 months      1\n",
      "Name: contract_duration, dtype: int64\n"
     ]
    }
   ],
   "source": [
    "duration_counts = df['contract_duration'].value_counts()\n",
    "print(duration_counts)"
   ]
  },
  {
   "cell_type": "code",
   "execution_count": 20,
   "id": "59a54677",
   "metadata": {},
   "outputs": [],
   "source": [
    "df['contract_duration'].fillna('unlimited', inplace = True) \n",
    "\n",
    "# There is a huge majority of unlimited contracts so I've decided to fill nulls with those type of contracts \n",
    "# (It won't disturb data distribution between those options)"
   ]
  },
  {
   "cell_type": "code",
   "execution_count": 21,
   "id": "923247c0",
   "metadata": {},
   "outputs": [],
   "source": [
    "df['company_size'].replace('Oct-50', '10-50', inplace = True) \n",
    "# based on ranges in company sizes I've come to an conclusion that 'Oct - 50' means '10 - 50' cause of lack of this range"
   ]
  },
  {
   "cell_type": "code",
   "execution_count": 22,
   "id": "374de748",
   "metadata": {},
   "outputs": [
    {
     "data": {
      "text/plain": [
       "100-1000    363\n",
       "1000+       344\n",
       "50-100      131\n",
       "10-50       105\n",
       "up to 10     28\n",
       "Name: company_size, dtype: int64"
      ]
     },
     "execution_count": 22,
     "metadata": {},
     "output_type": "execute_result"
    }
   ],
   "source": [
    "size_counts = df['company_size'].value_counts()\n",
    "size_counts"
   ]
  },
  {
   "cell_type": "code",
   "execution_count": 23,
   "id": "3cda4513",
   "metadata": {},
   "outputs": [],
   "source": [
    "df['company_size'].fillna('1000+', inplace = True) \n",
    "\n",
    "# Assusmed that there is a lot of respondents from companies with more than a 1000 employees"
   ]
  },
  {
   "cell_type": "code",
   "execution_count": 24,
   "id": "47dedf61",
   "metadata": {},
   "outputs": [],
   "source": [
    "# Assumption: Bonus and stocks were not filled cause people didn't have those\n",
    "# Solution: Filled NaNs in bonus and stocks with zeros"
   ]
  },
  {
   "cell_type": "code",
   "execution_count": 25,
   "id": "fdab3e07",
   "metadata": {},
   "outputs": [],
   "source": [
    "df['yearly_bonus'].fillna(0, inplace = True)\n",
    "df['yearly_stocks'].fillna(0, inplace = True)\n",
    "df['yearly_bonus_2018'].fillna(0, inplace = True)\n",
    "df['yearly_stocks_2018'].fillna(0, inplace = True)"
   ]
  },
  {
   "cell_type": "code",
   "execution_count": 26,
   "id": "91207ba4",
   "metadata": {},
   "outputs": [],
   "source": [
    "# got indexes where fields are not filled to delete those rows \n",
    "# (these are the more specific features which fixing could be ineffective to fill with values):"
   ]
  },
  {
   "cell_type": "code",
   "execution_count": 27,
   "id": "20b173fd",
   "metadata": {},
   "outputs": [],
   "source": [
    "no_salary = df[df['yearly_brutto_salary_2018'].isna()].index"
   ]
  },
  {
   "cell_type": "code",
   "execution_count": 28,
   "id": "529cf47a",
   "metadata": {},
   "outputs": [],
   "source": [
    "df.drop(no_salary, axis = 0, inplace = True)"
   ]
  },
  {
   "cell_type": "code",
   "execution_count": 29,
   "id": "6fc69b54",
   "metadata": {},
   "outputs": [],
   "source": [
    "no_seniority = df[df['seniority'].isna()].index\n",
    "df.drop(no_seniority, axis = 0, inplace = True)"
   ]
  },
  {
   "cell_type": "code",
   "execution_count": 30,
   "id": "3ccfd663",
   "metadata": {},
   "outputs": [],
   "source": [
    "no_technology = df[df['main_technology'].isna()].index\n",
    "df.drop(no_technology, axis = 0, inplace = True)"
   ]
  },
  {
   "cell_type": "code",
   "execution_count": 31,
   "id": "534b7f7a",
   "metadata": {},
   "outputs": [],
   "source": [
    "no_company_type = df[df['company_type'].isna()].index\n",
    "df.drop(no_company_type, axis = 0, inplace = True)"
   ]
  },
  {
   "cell_type": "code",
   "execution_count": 32,
   "id": "485da231",
   "metadata": {},
   "outputs": [],
   "source": [
    "no_business_industry = df[df['business_industry'].isna()].index\n",
    "df.drop(no_business_industry, axis = 0, inplace = True)"
   ]
  },
  {
   "cell_type": "code",
   "execution_count": 33,
   "id": "f542fea8",
   "metadata": {},
   "outputs": [],
   "source": [
    "df.reset_index(inplace = True)"
   ]
  },
  {
   "cell_type": "code",
   "execution_count": 34,
   "id": "1b86f169",
   "metadata": {},
   "outputs": [
    {
     "data": {
      "text/html": [
       "<div>\n",
       "<style scoped>\n",
       "    .dataframe tbody tr th:only-of-type {\n",
       "        vertical-align: middle;\n",
       "    }\n",
       "\n",
       "    .dataframe tbody tr th {\n",
       "        vertical-align: top;\n",
       "    }\n",
       "\n",
       "    .dataframe thead th {\n",
       "        text-align: right;\n",
       "    }\n",
       "</style>\n",
       "<table border=\"1\" class=\"dataframe\">\n",
       "  <thead>\n",
       "    <tr style=\"text-align: right;\">\n",
       "      <th></th>\n",
       "      <th>index</th>\n",
       "      <th>age</th>\n",
       "      <th>gender</th>\n",
       "      <th>city</th>\n",
       "      <th>seniority</th>\n",
       "      <th>position</th>\n",
       "      <th>experience_years</th>\n",
       "      <th>main_technology</th>\n",
       "      <th>yearly_brutto_salary</th>\n",
       "      <th>yearly_bonus</th>\n",
       "      <th>...</th>\n",
       "      <th>yearly_brutto_salary_2018</th>\n",
       "      <th>yearly_bonus_2018</th>\n",
       "      <th>yearly_stocks_2018</th>\n",
       "      <th>vacation_days</th>\n",
       "      <th>home_office_days_monthly</th>\n",
       "      <th>work_language</th>\n",
       "      <th>company_size</th>\n",
       "      <th>company_type</th>\n",
       "      <th>contract_duration</th>\n",
       "      <th>business_industry</th>\n",
       "    </tr>\n",
       "  </thead>\n",
       "  <tbody>\n",
       "    <tr>\n",
       "      <th>0</th>\n",
       "      <td>0</td>\n",
       "      <td>33.0</td>\n",
       "      <td>Male</td>\n",
       "      <td>Berlin</td>\n",
       "      <td>Senior</td>\n",
       "      <td>Fullstack Developer</td>\n",
       "      <td>13</td>\n",
       "      <td>PHP</td>\n",
       "      <td>64000.0</td>\n",
       "      <td>1000.0</td>\n",
       "      <td>...</td>\n",
       "      <td>58000.0</td>\n",
       "      <td>1000.0</td>\n",
       "      <td>0.0</td>\n",
       "      <td>29.0</td>\n",
       "      <td>4</td>\n",
       "      <td>English</td>\n",
       "      <td>50-100</td>\n",
       "      <td>Startup</td>\n",
       "      <td>unlimited</td>\n",
       "      <td>Tourism</td>\n",
       "    </tr>\n",
       "    <tr>\n",
       "      <th>1</th>\n",
       "      <td>1</td>\n",
       "      <td>29.0</td>\n",
       "      <td>Male</td>\n",
       "      <td>Berlin</td>\n",
       "      <td>Middle</td>\n",
       "      <td>Backend Developer</td>\n",
       "      <td>3</td>\n",
       "      <td>Python</td>\n",
       "      <td>55000.0</td>\n",
       "      <td>0.0</td>\n",
       "      <td>...</td>\n",
       "      <td>55000.0</td>\n",
       "      <td>0.0</td>\n",
       "      <td>0.0</td>\n",
       "      <td>22.0</td>\n",
       "      <td>4</td>\n",
       "      <td>English</td>\n",
       "      <td>10-50</td>\n",
       "      <td>Product</td>\n",
       "      <td>unlimited</td>\n",
       "      <td>Scientific Activities</td>\n",
       "    </tr>\n",
       "    <tr>\n",
       "      <th>2</th>\n",
       "      <td>4</td>\n",
       "      <td>32.0</td>\n",
       "      <td>Male</td>\n",
       "      <td>Berlin</td>\n",
       "      <td>Senior</td>\n",
       "      <td>Embedded Developer</td>\n",
       "      <td>10</td>\n",
       "      <td>C/C++</td>\n",
       "      <td>66000.0</td>\n",
       "      <td>0.0</td>\n",
       "      <td>...</td>\n",
       "      <td>56000.0</td>\n",
       "      <td>0.0</td>\n",
       "      <td>0.0</td>\n",
       "      <td>30.0</td>\n",
       "      <td>2</td>\n",
       "      <td>English</td>\n",
       "      <td>50-100</td>\n",
       "      <td>Product</td>\n",
       "      <td>unlimited</td>\n",
       "      <td>Automotive</td>\n",
       "    </tr>\n",
       "    <tr>\n",
       "      <th>3</th>\n",
       "      <td>5</td>\n",
       "      <td>33.0</td>\n",
       "      <td>Male</td>\n",
       "      <td>Berlin</td>\n",
       "      <td>Middle</td>\n",
       "      <td>Machine Learning Engineer</td>\n",
       "      <td>11</td>\n",
       "      <td>Python</td>\n",
       "      <td>80000.0</td>\n",
       "      <td>0.0</td>\n",
       "      <td>...</td>\n",
       "      <td>75000.0</td>\n",
       "      <td>0.0</td>\n",
       "      <td>0.0</td>\n",
       "      <td>27.0</td>\n",
       "      <td>5</td>\n",
       "      <td>English</td>\n",
       "      <td>1000+</td>\n",
       "      <td>Product</td>\n",
       "      <td>unlimited</td>\n",
       "      <td>Сommerce</td>\n",
       "    </tr>\n",
       "    <tr>\n",
       "      <th>4</th>\n",
       "      <td>7</td>\n",
       "      <td>38.0</td>\n",
       "      <td>Male</td>\n",
       "      <td>Berlin</td>\n",
       "      <td>Head</td>\n",
       "      <td>Manager</td>\n",
       "      <td>15</td>\n",
       "      <td>Not Relevant</td>\n",
       "      <td>81000.0</td>\n",
       "      <td>4000.0</td>\n",
       "      <td>...</td>\n",
       "      <td>75000.0</td>\n",
       "      <td>0.0</td>\n",
       "      <td>0.0</td>\n",
       "      <td>30.0</td>\n",
       "      <td>10</td>\n",
       "      <td>Deutsch</td>\n",
       "      <td>100-1000</td>\n",
       "      <td>Product</td>\n",
       "      <td>unlimited</td>\n",
       "      <td>Automotive</td>\n",
       "    </tr>\n",
       "  </tbody>\n",
       "</table>\n",
       "<p>5 rows × 21 columns</p>\n",
       "</div>"
      ],
      "text/plain": [
       "   index   age gender    city seniority                   position  \\\n",
       "0      0  33.0   Male  Berlin    Senior        Fullstack Developer   \n",
       "1      1  29.0   Male  Berlin    Middle          Backend Developer   \n",
       "2      4  32.0   Male  Berlin    Senior         Embedded Developer   \n",
       "3      5  33.0   Male  Berlin    Middle  Machine Learning Engineer   \n",
       "4      7  38.0   Male  Berlin      Head                    Manager   \n",
       "\n",
       "   experience_years main_technology  yearly_brutto_salary  yearly_bonus  ...  \\\n",
       "0                13             PHP               64000.0        1000.0  ...   \n",
       "1                 3          Python               55000.0           0.0  ...   \n",
       "2                10           C/C++               66000.0           0.0  ...   \n",
       "3                11          Python               80000.0           0.0  ...   \n",
       "4                15    Not Relevant               81000.0        4000.0  ...   \n",
       "\n",
       "   yearly_brutto_salary_2018  yearly_bonus_2018  yearly_stocks_2018  \\\n",
       "0                    58000.0             1000.0                 0.0   \n",
       "1                    55000.0                0.0                 0.0   \n",
       "2                    56000.0                0.0                 0.0   \n",
       "3                    75000.0                0.0                 0.0   \n",
       "4                    75000.0                0.0                 0.0   \n",
       "\n",
       "   vacation_days  home_office_days_monthly  work_language company_size  \\\n",
       "0           29.0                         4        English       50-100   \n",
       "1           22.0                         4        English        10-50   \n",
       "2           30.0                         2        English       50-100   \n",
       "3           27.0                         5        English        1000+   \n",
       "4           30.0                        10        Deutsch     100-1000   \n",
       "\n",
       "  company_type contract_duration      business_industry  \n",
       "0      Startup         unlimited                Tourism  \n",
       "1      Product         unlimited  Scientific Activities  \n",
       "2      Product         unlimited             Automotive  \n",
       "3      Product         unlimited               Сommerce  \n",
       "4      Product         unlimited             Automotive  \n",
       "\n",
       "[5 rows x 21 columns]"
      ]
     },
     "execution_count": 34,
     "metadata": {},
     "output_type": "execute_result"
    }
   ],
   "source": [
    "df.head()"
   ]
  },
  {
   "cell_type": "code",
   "execution_count": 35,
   "id": "bb89c4bd",
   "metadata": {},
   "outputs": [],
   "source": [
    "df.drop(['index'], axis = 1, inplace = True) # drop old index"
   ]
  },
  {
   "cell_type": "markdown",
   "id": "a32f3c6d",
   "metadata": {},
   "source": [
    "Numerical data - changing data types"
   ]
  },
  {
   "cell_type": "code",
   "execution_count": 36,
   "id": "eb91df32",
   "metadata": {},
   "outputs": [
    {
     "data": {
      "text/html": [
       "<div>\n",
       "<style scoped>\n",
       "    .dataframe tbody tr th:only-of-type {\n",
       "        vertical-align: middle;\n",
       "    }\n",
       "\n",
       "    .dataframe tbody tr th {\n",
       "        vertical-align: top;\n",
       "    }\n",
       "\n",
       "    .dataframe thead th {\n",
       "        text-align: right;\n",
       "    }\n",
       "</style>\n",
       "<table border=\"1\" class=\"dataframe\">\n",
       "  <thead>\n",
       "    <tr style=\"text-align: right;\">\n",
       "      <th></th>\n",
       "      <th>age</th>\n",
       "      <th>experience_years</th>\n",
       "      <th>yearly_brutto_salary</th>\n",
       "      <th>yearly_bonus</th>\n",
       "      <th>yearly_stocks</th>\n",
       "      <th>yearly_brutto_salary_2018</th>\n",
       "      <th>yearly_bonus_2018</th>\n",
       "      <th>yearly_stocks_2018</th>\n",
       "      <th>vacation_days</th>\n",
       "      <th>home_office_days_monthly</th>\n",
       "    </tr>\n",
       "  </thead>\n",
       "  <tbody>\n",
       "    <tr>\n",
       "      <th>0</th>\n",
       "      <td>33.0</td>\n",
       "      <td>13</td>\n",
       "      <td>64000.0</td>\n",
       "      <td>1000.0</td>\n",
       "      <td>0.0</td>\n",
       "      <td>58000.0</td>\n",
       "      <td>1000.0</td>\n",
       "      <td>0.0</td>\n",
       "      <td>29.0</td>\n",
       "      <td>4</td>\n",
       "    </tr>\n",
       "    <tr>\n",
       "      <th>1</th>\n",
       "      <td>29.0</td>\n",
       "      <td>3</td>\n",
       "      <td>55000.0</td>\n",
       "      <td>0.0</td>\n",
       "      <td>0.0</td>\n",
       "      <td>55000.0</td>\n",
       "      <td>0.0</td>\n",
       "      <td>0.0</td>\n",
       "      <td>22.0</td>\n",
       "      <td>4</td>\n",
       "    </tr>\n",
       "    <tr>\n",
       "      <th>2</th>\n",
       "      <td>32.0</td>\n",
       "      <td>10</td>\n",
       "      <td>66000.0</td>\n",
       "      <td>0.0</td>\n",
       "      <td>0.0</td>\n",
       "      <td>56000.0</td>\n",
       "      <td>0.0</td>\n",
       "      <td>0.0</td>\n",
       "      <td>30.0</td>\n",
       "      <td>2</td>\n",
       "    </tr>\n",
       "    <tr>\n",
       "      <th>3</th>\n",
       "      <td>33.0</td>\n",
       "      <td>11</td>\n",
       "      <td>80000.0</td>\n",
       "      <td>0.0</td>\n",
       "      <td>0.0</td>\n",
       "      <td>75000.0</td>\n",
       "      <td>0.0</td>\n",
       "      <td>0.0</td>\n",
       "      <td>27.0</td>\n",
       "      <td>5</td>\n",
       "    </tr>\n",
       "    <tr>\n",
       "      <th>4</th>\n",
       "      <td>38.0</td>\n",
       "      <td>15</td>\n",
       "      <td>81000.0</td>\n",
       "      <td>4000.0</td>\n",
       "      <td>0.0</td>\n",
       "      <td>75000.0</td>\n",
       "      <td>0.0</td>\n",
       "      <td>0.0</td>\n",
       "      <td>30.0</td>\n",
       "      <td>10</td>\n",
       "    </tr>\n",
       "    <tr>\n",
       "      <th>...</th>\n",
       "      <td>...</td>\n",
       "      <td>...</td>\n",
       "      <td>...</td>\n",
       "      <td>...</td>\n",
       "      <td>...</td>\n",
       "      <td>...</td>\n",
       "      <td>...</td>\n",
       "      <td>...</td>\n",
       "      <td>...</td>\n",
       "      <td>...</td>\n",
       "    </tr>\n",
       "    <tr>\n",
       "      <th>523</th>\n",
       "      <td>41.0</td>\n",
       "      <td>19</td>\n",
       "      <td>45000.0</td>\n",
       "      <td>0.0</td>\n",
       "      <td>0.0</td>\n",
       "      <td>39000.0</td>\n",
       "      <td>0.0</td>\n",
       "      <td>0.0</td>\n",
       "      <td>24.0</td>\n",
       "      <td>2</td>\n",
       "    </tr>\n",
       "    <tr>\n",
       "      <th>524</th>\n",
       "      <td>30.0</td>\n",
       "      <td>10</td>\n",
       "      <td>71000.0</td>\n",
       "      <td>3000.0</td>\n",
       "      <td>0.0</td>\n",
       "      <td>64000.0</td>\n",
       "      <td>3000.0</td>\n",
       "      <td>0.0</td>\n",
       "      <td>25.0</td>\n",
       "      <td>5</td>\n",
       "    </tr>\n",
       "    <tr>\n",
       "      <th>525</th>\n",
       "      <td>28.0</td>\n",
       "      <td>7</td>\n",
       "      <td>72000.0</td>\n",
       "      <td>0.0</td>\n",
       "      <td>0.0</td>\n",
       "      <td>67000.0</td>\n",
       "      <td>0.0</td>\n",
       "      <td>0.0</td>\n",
       "      <td>27.0</td>\n",
       "      <td>5</td>\n",
       "    </tr>\n",
       "    <tr>\n",
       "      <th>526</th>\n",
       "      <td>42.0</td>\n",
       "      <td>9</td>\n",
       "      <td>68000.0</td>\n",
       "      <td>10000.0</td>\n",
       "      <td>0.0</td>\n",
       "      <td>67000.0</td>\n",
       "      <td>9000.0</td>\n",
       "      <td>0.0</td>\n",
       "      <td>30.0</td>\n",
       "      <td>5</td>\n",
       "    </tr>\n",
       "    <tr>\n",
       "      <th>527</th>\n",
       "      <td>33.0</td>\n",
       "      <td>15</td>\n",
       "      <td>100000.0</td>\n",
       "      <td>3000.0</td>\n",
       "      <td>0.0</td>\n",
       "      <td>93000.0</td>\n",
       "      <td>5000.0</td>\n",
       "      <td>0.0</td>\n",
       "      <td>26.0</td>\n",
       "      <td>6</td>\n",
       "    </tr>\n",
       "  </tbody>\n",
       "</table>\n",
       "<p>528 rows × 10 columns</p>\n",
       "</div>"
      ],
      "text/plain": [
       "      age  experience_years  yearly_brutto_salary  yearly_bonus  \\\n",
       "0    33.0                13               64000.0        1000.0   \n",
       "1    29.0                 3               55000.0           0.0   \n",
       "2    32.0                10               66000.0           0.0   \n",
       "3    33.0                11               80000.0           0.0   \n",
       "4    38.0                15               81000.0        4000.0   \n",
       "..    ...               ...                   ...           ...   \n",
       "523  41.0                19               45000.0           0.0   \n",
       "524  30.0                10               71000.0        3000.0   \n",
       "525  28.0                 7               72000.0           0.0   \n",
       "526  42.0                 9               68000.0       10000.0   \n",
       "527  33.0                15              100000.0        3000.0   \n",
       "\n",
       "     yearly_stocks  yearly_brutto_salary_2018  yearly_bonus_2018  \\\n",
       "0              0.0                    58000.0             1000.0   \n",
       "1              0.0                    55000.0                0.0   \n",
       "2              0.0                    56000.0                0.0   \n",
       "3              0.0                    75000.0                0.0   \n",
       "4              0.0                    75000.0                0.0   \n",
       "..             ...                        ...                ...   \n",
       "523            0.0                    39000.0                0.0   \n",
       "524            0.0                    64000.0             3000.0   \n",
       "525            0.0                    67000.0                0.0   \n",
       "526            0.0                    67000.0             9000.0   \n",
       "527            0.0                    93000.0             5000.0   \n",
       "\n",
       "     yearly_stocks_2018  vacation_days  home_office_days_monthly  \n",
       "0                   0.0           29.0                         4  \n",
       "1                   0.0           22.0                         4  \n",
       "2                   0.0           30.0                         2  \n",
       "3                   0.0           27.0                         5  \n",
       "4                   0.0           30.0                        10  \n",
       "..                  ...            ...                       ...  \n",
       "523                 0.0           24.0                         2  \n",
       "524                 0.0           25.0                         5  \n",
       "525                 0.0           27.0                         5  \n",
       "526                 0.0           30.0                         5  \n",
       "527                 0.0           26.0                         6  \n",
       "\n",
       "[528 rows x 10 columns]"
      ]
     },
     "execution_count": 36,
     "metadata": {},
     "output_type": "execute_result"
    }
   ],
   "source": [
    "df.select_dtypes(include = ['int', 'float'])"
   ]
  },
  {
   "cell_type": "code",
   "execution_count": 37,
   "id": "acbde857",
   "metadata": {},
   "outputs": [],
   "source": [
    "df['vacation_days'] = df['vacation_days'].astype(int)"
   ]
  },
  {
   "cell_type": "code",
   "execution_count": 38,
   "id": "f4d756d2",
   "metadata": {},
   "outputs": [],
   "source": [
    "delete_days = df[df['vacation_days'] > 50].index"
   ]
  },
  {
   "cell_type": "code",
   "execution_count": 39,
   "id": "2a19dfe7",
   "metadata": {},
   "outputs": [],
   "source": [
    "df.drop(delete_days, inplace = True)"
   ]
  },
  {
   "cell_type": "code",
   "execution_count": 40,
   "id": "cf32b048",
   "metadata": {},
   "outputs": [
    {
     "data": {
      "text/plain": [
       "array([33., 29., 32., 38., 27., 23., 31., 24., 36., 35., 30., 28., 37.,\n",
       "       40., 34., 26., 39., 47., 44., 42., 45., 41., 25., 43., 22., 49.,\n",
       "       46., 48., 21., 52.])"
      ]
     },
     "execution_count": 40,
     "metadata": {},
     "output_type": "execute_result"
    }
   ],
   "source": [
    "df['age'].unique()"
   ]
  },
  {
   "cell_type": "code",
   "execution_count": 41,
   "id": "a1541681",
   "metadata": {},
   "outputs": [],
   "source": [
    "df['age'] = df['age'].astype(int)"
   ]
  },
  {
   "cell_type": "code",
   "execution_count": 42,
   "id": "1f2eac3f",
   "metadata": {},
   "outputs": [],
   "source": [
    "df['yearly_brutto_salary'] = df['yearly_brutto_salary'].astype(int)\n",
    "df['yearly_brutto_salary_2018'] = df['yearly_brutto_salary_2018'].astype(int)"
   ]
  },
  {
   "cell_type": "code",
   "execution_count": 43,
   "id": "1ebcedd2",
   "metadata": {},
   "outputs": [],
   "source": [
    "df['yearly_bonus'] = df['yearly_bonus'].astype(int)\n",
    "df['yearly_bonus_2018'] = df['yearly_bonus'].astype(int)"
   ]
  },
  {
   "cell_type": "code",
   "execution_count": 44,
   "id": "c7caaa5b",
   "metadata": {},
   "outputs": [
    {
     "data": {
      "text/html": [
       "<div>\n",
       "<style scoped>\n",
       "    .dataframe tbody tr th:only-of-type {\n",
       "        vertical-align: middle;\n",
       "    }\n",
       "\n",
       "    .dataframe tbody tr th {\n",
       "        vertical-align: top;\n",
       "    }\n",
       "\n",
       "    .dataframe thead th {\n",
       "        text-align: right;\n",
       "    }\n",
       "</style>\n",
       "<table border=\"1\" class=\"dataframe\">\n",
       "  <thead>\n",
       "    <tr style=\"text-align: right;\">\n",
       "      <th></th>\n",
       "      <th>age</th>\n",
       "      <th>experience_years</th>\n",
       "      <th>yearly_brutto_salary</th>\n",
       "      <th>yearly_bonus</th>\n",
       "      <th>yearly_stocks</th>\n",
       "      <th>yearly_brutto_salary_2018</th>\n",
       "      <th>yearly_bonus_2018</th>\n",
       "      <th>yearly_stocks_2018</th>\n",
       "      <th>vacation_days</th>\n",
       "      <th>home_office_days_monthly</th>\n",
       "    </tr>\n",
       "  </thead>\n",
       "  <tbody>\n",
       "    <tr>\n",
       "      <th>0</th>\n",
       "      <td>33</td>\n",
       "      <td>13</td>\n",
       "      <td>64000</td>\n",
       "      <td>1000</td>\n",
       "      <td>0.0</td>\n",
       "      <td>58000</td>\n",
       "      <td>1000</td>\n",
       "      <td>0.0</td>\n",
       "      <td>29</td>\n",
       "      <td>4</td>\n",
       "    </tr>\n",
       "    <tr>\n",
       "      <th>1</th>\n",
       "      <td>29</td>\n",
       "      <td>3</td>\n",
       "      <td>55000</td>\n",
       "      <td>0</td>\n",
       "      <td>0.0</td>\n",
       "      <td>55000</td>\n",
       "      <td>0</td>\n",
       "      <td>0.0</td>\n",
       "      <td>22</td>\n",
       "      <td>4</td>\n",
       "    </tr>\n",
       "    <tr>\n",
       "      <th>2</th>\n",
       "      <td>32</td>\n",
       "      <td>10</td>\n",
       "      <td>66000</td>\n",
       "      <td>0</td>\n",
       "      <td>0.0</td>\n",
       "      <td>56000</td>\n",
       "      <td>0</td>\n",
       "      <td>0.0</td>\n",
       "      <td>30</td>\n",
       "      <td>2</td>\n",
       "    </tr>\n",
       "    <tr>\n",
       "      <th>3</th>\n",
       "      <td>33</td>\n",
       "      <td>11</td>\n",
       "      <td>80000</td>\n",
       "      <td>0</td>\n",
       "      <td>0.0</td>\n",
       "      <td>75000</td>\n",
       "      <td>0</td>\n",
       "      <td>0.0</td>\n",
       "      <td>27</td>\n",
       "      <td>5</td>\n",
       "    </tr>\n",
       "    <tr>\n",
       "      <th>4</th>\n",
       "      <td>38</td>\n",
       "      <td>15</td>\n",
       "      <td>81000</td>\n",
       "      <td>4000</td>\n",
       "      <td>0.0</td>\n",
       "      <td>75000</td>\n",
       "      <td>4000</td>\n",
       "      <td>0.0</td>\n",
       "      <td>30</td>\n",
       "      <td>10</td>\n",
       "    </tr>\n",
       "    <tr>\n",
       "      <th>...</th>\n",
       "      <td>...</td>\n",
       "      <td>...</td>\n",
       "      <td>...</td>\n",
       "      <td>...</td>\n",
       "      <td>...</td>\n",
       "      <td>...</td>\n",
       "      <td>...</td>\n",
       "      <td>...</td>\n",
       "      <td>...</td>\n",
       "      <td>...</td>\n",
       "    </tr>\n",
       "    <tr>\n",
       "      <th>523</th>\n",
       "      <td>41</td>\n",
       "      <td>19</td>\n",
       "      <td>45000</td>\n",
       "      <td>0</td>\n",
       "      <td>0.0</td>\n",
       "      <td>39000</td>\n",
       "      <td>0</td>\n",
       "      <td>0.0</td>\n",
       "      <td>24</td>\n",
       "      <td>2</td>\n",
       "    </tr>\n",
       "    <tr>\n",
       "      <th>524</th>\n",
       "      <td>30</td>\n",
       "      <td>10</td>\n",
       "      <td>71000</td>\n",
       "      <td>3000</td>\n",
       "      <td>0.0</td>\n",
       "      <td>64000</td>\n",
       "      <td>3000</td>\n",
       "      <td>0.0</td>\n",
       "      <td>25</td>\n",
       "      <td>5</td>\n",
       "    </tr>\n",
       "    <tr>\n",
       "      <th>525</th>\n",
       "      <td>28</td>\n",
       "      <td>7</td>\n",
       "      <td>72000</td>\n",
       "      <td>0</td>\n",
       "      <td>0.0</td>\n",
       "      <td>67000</td>\n",
       "      <td>0</td>\n",
       "      <td>0.0</td>\n",
       "      <td>27</td>\n",
       "      <td>5</td>\n",
       "    </tr>\n",
       "    <tr>\n",
       "      <th>526</th>\n",
       "      <td>42</td>\n",
       "      <td>9</td>\n",
       "      <td>68000</td>\n",
       "      <td>10000</td>\n",
       "      <td>0.0</td>\n",
       "      <td>67000</td>\n",
       "      <td>10000</td>\n",
       "      <td>0.0</td>\n",
       "      <td>30</td>\n",
       "      <td>5</td>\n",
       "    </tr>\n",
       "    <tr>\n",
       "      <th>527</th>\n",
       "      <td>33</td>\n",
       "      <td>15</td>\n",
       "      <td>100000</td>\n",
       "      <td>3000</td>\n",
       "      <td>0.0</td>\n",
       "      <td>93000</td>\n",
       "      <td>3000</td>\n",
       "      <td>0.0</td>\n",
       "      <td>26</td>\n",
       "      <td>6</td>\n",
       "    </tr>\n",
       "  </tbody>\n",
       "</table>\n",
       "<p>525 rows × 10 columns</p>\n",
       "</div>"
      ],
      "text/plain": [
       "     age  experience_years  yearly_brutto_salary  yearly_bonus  yearly_stocks  \\\n",
       "0     33                13                 64000          1000            0.0   \n",
       "1     29                 3                 55000             0            0.0   \n",
       "2     32                10                 66000             0            0.0   \n",
       "3     33                11                 80000             0            0.0   \n",
       "4     38                15                 81000          4000            0.0   \n",
       "..   ...               ...                   ...           ...            ...   \n",
       "523   41                19                 45000             0            0.0   \n",
       "524   30                10                 71000          3000            0.0   \n",
       "525   28                 7                 72000             0            0.0   \n",
       "526   42                 9                 68000         10000            0.0   \n",
       "527   33                15                100000          3000            0.0   \n",
       "\n",
       "     yearly_brutto_salary_2018  yearly_bonus_2018  yearly_stocks_2018  \\\n",
       "0                        58000               1000                 0.0   \n",
       "1                        55000                  0                 0.0   \n",
       "2                        56000                  0                 0.0   \n",
       "3                        75000                  0                 0.0   \n",
       "4                        75000               4000                 0.0   \n",
       "..                         ...                ...                 ...   \n",
       "523                      39000                  0                 0.0   \n",
       "524                      64000               3000                 0.0   \n",
       "525                      67000                  0                 0.0   \n",
       "526                      67000              10000                 0.0   \n",
       "527                      93000               3000                 0.0   \n",
       "\n",
       "     vacation_days  home_office_days_monthly  \n",
       "0               29                         4  \n",
       "1               22                         4  \n",
       "2               30                         2  \n",
       "3               27                         5  \n",
       "4               30                        10  \n",
       "..             ...                       ...  \n",
       "523             24                         2  \n",
       "524             25                         5  \n",
       "525             27                         5  \n",
       "526             30                         5  \n",
       "527             26                         6  \n",
       "\n",
       "[525 rows x 10 columns]"
      ]
     },
     "execution_count": 44,
     "metadata": {},
     "output_type": "execute_result"
    }
   ],
   "source": [
    "df.select_dtypes(include = ['int', 'float'])"
   ]
  },
  {
   "cell_type": "code",
   "execution_count": 45,
   "id": "912b21e3",
   "metadata": {
    "scrolled": true
   },
   "outputs": [
    {
     "data": {
      "text/html": [
       "<div>\n",
       "<style scoped>\n",
       "    .dataframe tbody tr th:only-of-type {\n",
       "        vertical-align: middle;\n",
       "    }\n",
       "\n",
       "    .dataframe tbody tr th {\n",
       "        vertical-align: top;\n",
       "    }\n",
       "\n",
       "    .dataframe thead th {\n",
       "        text-align: right;\n",
       "    }\n",
       "</style>\n",
       "<table border=\"1\" class=\"dataframe\">\n",
       "  <thead>\n",
       "    <tr style=\"text-align: right;\">\n",
       "      <th></th>\n",
       "      <th>age</th>\n",
       "      <th>gender</th>\n",
       "      <th>city</th>\n",
       "      <th>seniority</th>\n",
       "      <th>position</th>\n",
       "      <th>experience_years</th>\n",
       "      <th>main_technology</th>\n",
       "      <th>yearly_brutto_salary</th>\n",
       "      <th>yearly_bonus</th>\n",
       "      <th>yearly_stocks</th>\n",
       "      <th>yearly_brutto_salary_2018</th>\n",
       "      <th>yearly_bonus_2018</th>\n",
       "      <th>yearly_stocks_2018</th>\n",
       "      <th>vacation_days</th>\n",
       "      <th>home_office_days_monthly</th>\n",
       "      <th>work_language</th>\n",
       "      <th>company_size</th>\n",
       "      <th>company_type</th>\n",
       "      <th>contract_duration</th>\n",
       "      <th>business_industry</th>\n",
       "    </tr>\n",
       "  </thead>\n",
       "  <tbody>\n",
       "    <tr>\n",
       "      <th>0</th>\n",
       "      <td>33</td>\n",
       "      <td>Male</td>\n",
       "      <td>Berlin</td>\n",
       "      <td>Senior</td>\n",
       "      <td>Fullstack Developer</td>\n",
       "      <td>13</td>\n",
       "      <td>PHP</td>\n",
       "      <td>64000</td>\n",
       "      <td>1000</td>\n",
       "      <td>0.0</td>\n",
       "      <td>58000</td>\n",
       "      <td>1000</td>\n",
       "      <td>0.0</td>\n",
       "      <td>29</td>\n",
       "      <td>4</td>\n",
       "      <td>English</td>\n",
       "      <td>50-100</td>\n",
       "      <td>Startup</td>\n",
       "      <td>unlimited</td>\n",
       "      <td>Tourism</td>\n",
       "    </tr>\n",
       "    <tr>\n",
       "      <th>1</th>\n",
       "      <td>29</td>\n",
       "      <td>Male</td>\n",
       "      <td>Berlin</td>\n",
       "      <td>Middle</td>\n",
       "      <td>Backend Developer</td>\n",
       "      <td>3</td>\n",
       "      <td>Python</td>\n",
       "      <td>55000</td>\n",
       "      <td>0</td>\n",
       "      <td>0.0</td>\n",
       "      <td>55000</td>\n",
       "      <td>0</td>\n",
       "      <td>0.0</td>\n",
       "      <td>22</td>\n",
       "      <td>4</td>\n",
       "      <td>English</td>\n",
       "      <td>10-50</td>\n",
       "      <td>Product</td>\n",
       "      <td>unlimited</td>\n",
       "      <td>Scientific Activities</td>\n",
       "    </tr>\n",
       "    <tr>\n",
       "      <th>2</th>\n",
       "      <td>32</td>\n",
       "      <td>Male</td>\n",
       "      <td>Berlin</td>\n",
       "      <td>Senior</td>\n",
       "      <td>Embedded Developer</td>\n",
       "      <td>10</td>\n",
       "      <td>C/C++</td>\n",
       "      <td>66000</td>\n",
       "      <td>0</td>\n",
       "      <td>0.0</td>\n",
       "      <td>56000</td>\n",
       "      <td>0</td>\n",
       "      <td>0.0</td>\n",
       "      <td>30</td>\n",
       "      <td>2</td>\n",
       "      <td>English</td>\n",
       "      <td>50-100</td>\n",
       "      <td>Product</td>\n",
       "      <td>unlimited</td>\n",
       "      <td>Automotive</td>\n",
       "    </tr>\n",
       "    <tr>\n",
       "      <th>3</th>\n",
       "      <td>33</td>\n",
       "      <td>Male</td>\n",
       "      <td>Berlin</td>\n",
       "      <td>Middle</td>\n",
       "      <td>Machine Learning Engineer</td>\n",
       "      <td>11</td>\n",
       "      <td>Python</td>\n",
       "      <td>80000</td>\n",
       "      <td>0</td>\n",
       "      <td>0.0</td>\n",
       "      <td>75000</td>\n",
       "      <td>0</td>\n",
       "      <td>0.0</td>\n",
       "      <td>27</td>\n",
       "      <td>5</td>\n",
       "      <td>English</td>\n",
       "      <td>1000+</td>\n",
       "      <td>Product</td>\n",
       "      <td>unlimited</td>\n",
       "      <td>Сommerce</td>\n",
       "    </tr>\n",
       "    <tr>\n",
       "      <th>4</th>\n",
       "      <td>38</td>\n",
       "      <td>Male</td>\n",
       "      <td>Berlin</td>\n",
       "      <td>Head</td>\n",
       "      <td>Manager</td>\n",
       "      <td>15</td>\n",
       "      <td>Not Relevant</td>\n",
       "      <td>81000</td>\n",
       "      <td>4000</td>\n",
       "      <td>0.0</td>\n",
       "      <td>75000</td>\n",
       "      <td>4000</td>\n",
       "      <td>0.0</td>\n",
       "      <td>30</td>\n",
       "      <td>10</td>\n",
       "      <td>Deutsch</td>\n",
       "      <td>100-1000</td>\n",
       "      <td>Product</td>\n",
       "      <td>unlimited</td>\n",
       "      <td>Automotive</td>\n",
       "    </tr>\n",
       "  </tbody>\n",
       "</table>\n",
       "</div>"
      ],
      "text/plain": [
       "   age gender    city seniority                   position  experience_years  \\\n",
       "0   33   Male  Berlin    Senior        Fullstack Developer                13   \n",
       "1   29   Male  Berlin    Middle          Backend Developer                 3   \n",
       "2   32   Male  Berlin    Senior         Embedded Developer                10   \n",
       "3   33   Male  Berlin    Middle  Machine Learning Engineer                11   \n",
       "4   38   Male  Berlin      Head                    Manager                15   \n",
       "\n",
       "  main_technology  yearly_brutto_salary  yearly_bonus  yearly_stocks  \\\n",
       "0             PHP                 64000          1000            0.0   \n",
       "1          Python                 55000             0            0.0   \n",
       "2           C/C++                 66000             0            0.0   \n",
       "3          Python                 80000             0            0.0   \n",
       "4    Not Relevant                 81000          4000            0.0   \n",
       "\n",
       "   yearly_brutto_salary_2018  yearly_bonus_2018  yearly_stocks_2018  \\\n",
       "0                      58000               1000                 0.0   \n",
       "1                      55000                  0                 0.0   \n",
       "2                      56000                  0                 0.0   \n",
       "3                      75000                  0                 0.0   \n",
       "4                      75000               4000                 0.0   \n",
       "\n",
       "   vacation_days  home_office_days_monthly work_language company_size  \\\n",
       "0             29                         4       English       50-100   \n",
       "1             22                         4       English        10-50   \n",
       "2             30                         2       English       50-100   \n",
       "3             27                         5       English        1000+   \n",
       "4             30                        10       Deutsch     100-1000   \n",
       "\n",
       "  company_type contract_duration      business_industry  \n",
       "0      Startup         unlimited                Tourism  \n",
       "1      Product         unlimited  Scientific Activities  \n",
       "2      Product         unlimited             Automotive  \n",
       "3      Product         unlimited               Сommerce  \n",
       "4      Product         unlimited             Automotive  "
      ]
     },
     "execution_count": 45,
     "metadata": {},
     "output_type": "execute_result"
    }
   ],
   "source": [
    "df.head()"
   ]
  },
  {
   "cell_type": "markdown",
   "id": "f933f494",
   "metadata": {},
   "source": [
    "Categorical data - looking fo errors"
   ]
  },
  {
   "cell_type": "code",
   "execution_count": 46,
   "id": "b9ef6c36",
   "metadata": {},
   "outputs": [
    {
     "data": {
      "text/plain": [
       "array(['English', 'Deutsch', 'English+Deutsch', 'Russian', 'Spanish',\n",
       "       'French', 'Italian', 'Dutch', 'Polish+English', 'Polish'],\n",
       "      dtype=object)"
      ]
     },
     "execution_count": 46,
     "metadata": {},
     "output_type": "execute_result"
    }
   ],
   "source": [
    "df['work_language'].unique()"
   ]
  },
  {
   "cell_type": "code",
   "execution_count": 47,
   "id": "b616f447",
   "metadata": {},
   "outputs": [],
   "source": [
    "# Simplifying main languages put into form by respondents"
   ]
  },
  {
   "cell_type": "code",
   "execution_count": 48,
   "id": "28443d8b",
   "metadata": {},
   "outputs": [],
   "source": [
    "df['work_language'].replace('Deutsch', 'German', inplace = True)\n",
    "df['work_language'].replace('English+Deutsch', 'English', inplace = True)\n",
    "df['work_language'].replace('Polish+English', 'English', inplace = True)"
   ]
  },
  {
   "cell_type": "code",
   "execution_count": 49,
   "id": "421ac22d",
   "metadata": {},
   "outputs": [
    {
     "data": {
      "text/plain": [
       "array(['Startup', 'Product', 'Consulting / Agency',\n",
       "       'Bodyshop / Outsource', 'University', 'Bank'], dtype=object)"
      ]
     },
     "execution_count": 49,
     "metadata": {},
     "output_type": "execute_result"
    }
   ],
   "source": [
    "df['company_type'].unique()"
   ]
  },
  {
   "cell_type": "code",
   "execution_count": 50,
   "id": "95e61b6f",
   "metadata": {},
   "outputs": [
    {
     "data": {
      "text/plain": [
       "array(['Tourism', 'Scientific Activities', 'Automotive', 'Сommerce',\n",
       "       'Coaching ', 'Finance / Insurance', 'Manufacture',\n",
       "       'Customer Support', 'Transport', 'Health', 'IoT', 'Catering',\n",
       "       'Marketing', 'Gaming', 'IT', 'Advertising', 'Fashion',\n",
       "       'Software Development', 'Justice', 'Logistics', 'Telecom', 'Media',\n",
       "       'Gambling', 'Сonstruction', 'Publishing', 'Education',\n",
       "       'Real Estate', 'Dating', 'Government', 'Security', 'Agriculture',\n",
       "       'Energy', 'Cloud', 'SEO', 'Entertainment', 'HR', 'Data Processing',\n",
       "       'Consulting', 'Mapping, Navigation', 'Blockchain',\n",
       "       'End-to-end analytics', 'OTT', 'embedded', 'FinTech',\n",
       "       'Food Retail', 'CRM systems integration'], dtype=object)"
      ]
     },
     "execution_count": 50,
     "metadata": {},
     "output_type": "execute_result"
    }
   ],
   "source": [
    "df['business_industry'].unique()"
   ]
  },
  {
   "cell_type": "code",
   "execution_count": 51,
   "id": "8045b6a9",
   "metadata": {},
   "outputs": [
    {
     "data": {
      "text/plain": [
       "array(['Senior', 'Middle', 'Head', 'Lead', 'Principal', 'Junior'],\n",
       "      dtype=object)"
      ]
     },
     "execution_count": 51,
     "metadata": {},
     "output_type": "execute_result"
    }
   ],
   "source": [
    "df['seniority'].unique()"
   ]
  },
  {
   "cell_type": "code",
   "execution_count": 52,
   "id": "b00efaf5",
   "metadata": {},
   "outputs": [
    {
     "data": {
      "text/plain": [
       "array(['Fullstack Developer', 'Backend Developer', 'Embedded Developer',\n",
       "       'Machine Learning Engineer', 'Manager', 'Mobile Developer',\n",
       "       'DevOps', 'Designer (UI, UX)', 'Frontend Developer',\n",
       "       'Data Scientist', 'Software Architect', 'Business Analyst',\n",
       "       'Data Engineer', 'Localization', 'Support', 'QA',\n",
       "       'System Administrator', 'Software Engineer', 'SAP Consultant',\n",
       "       'Database Developer (DBA)', 'Desktop/Unity3D Developer',\n",
       "       'Recruiter ', 'Product Manager', 'Sales Engineer', 'Researcher',\n",
       "       'CTO (CEO, CFO)', 'SRE', 'Head of Engineering', 'Tech Lead',\n",
       "       'Cloud Platform Engineer', 'Crypto Developer',\n",
       "       'Modelling Specialist', 'IT Security', 'Network Engineer',\n",
       "       'Game Developer', 'Solution Architect', 'Desktop',\n",
       "       'Product manager', 'Security Engineer'], dtype=object)"
      ]
     },
     "execution_count": 52,
     "metadata": {},
     "output_type": "execute_result"
    }
   ],
   "source": [
    "df['position'].unique()"
   ]
  },
  {
   "cell_type": "code",
   "execution_count": 53,
   "id": "f34e455b",
   "metadata": {},
   "outputs": [
    {
     "data": {
      "text/plain": [
       "array(['Berlin', 'Frankfurt', 'Munich', 'Hamburg', 'Leipzig', 'Nuremberg',\n",
       "       'Cologne', 'Krakow', 'Stuttgart', 'London', 'Karlsruhe', 'Bern',\n",
       "       'Düsseldorf', 'Kyiv', 'Amsterdam', 'Pforzheim', 'Kassel ',\n",
       "       'Madrid', 'Vienna', 'Moscow', 'Warsaw', 'Hannover', 'Milan',\n",
       "       'Odesa', 'Cork', 'Heidelberg', 'Bielefeld', 'Dublin', 'Jyvaskyla',\n",
       "       'Toulouse', 'Dubai', 'Lingen', 'Dresden', 'Lugano',\n",
       "       'Schleswig-Holstein', 'Kaiserslautern', 'Saint Petersburg',\n",
       "       'Leeuwarden', 'Eindhoven', 'Hilversum', 'Gdańsk', 'Wroclaw',\n",
       "       'Limassol', 'Bayern', 'Würzburg ', 'Bremen', 'Lausanne',\n",
       "       'Stockholm', 'Rotterdam', 'Minsk', 'Utrecht', 'Kiev'], dtype=object)"
      ]
     },
     "execution_count": 53,
     "metadata": {},
     "output_type": "execute_result"
    }
   ],
   "source": [
    "city_list = df['city'].unique()\n",
    "city_list"
   ]
  },
  {
   "cell_type": "code",
   "execution_count": 54,
   "id": "11a8efca",
   "metadata": {},
   "outputs": [],
   "source": [
    "df['city'].replace('Bayern', 'Munich', inplace = True) # replacing name of the city based on domain knowledge"
   ]
  },
  {
   "cell_type": "code",
   "execution_count": 55,
   "id": "349a0076",
   "metadata": {},
   "outputs": [],
   "source": [
    "df['city'].replace('Würzburg ', 'Würzburg', inplace = True)\n",
    "df['city'].replace('Kassel ', 'Kassel', inplace = True)"
   ]
  },
  {
   "cell_type": "code",
   "execution_count": 56,
   "id": "a995fc53",
   "metadata": {},
   "outputs": [
    {
     "data": {
      "text/plain": [
       "array(['Berlin', 'Frankfurt', 'Munich', 'Hamburg', 'Leipzig', 'Nuremberg',\n",
       "       'Cologne', 'Krakow', 'Stuttgart', 'London', 'Karlsruhe', 'Bern',\n",
       "       'Düsseldorf', 'Kyiv', 'Amsterdam', 'Pforzheim', 'Kassel', 'Madrid',\n",
       "       'Vienna', 'Moscow', 'Warsaw', 'Hannover', 'Milan', 'Odesa', 'Cork',\n",
       "       'Heidelberg', 'Bielefeld', 'Dublin', 'Jyvaskyla', 'Toulouse',\n",
       "       'Dubai', 'Lingen', 'Dresden', 'Lugano', 'Schleswig-Holstein',\n",
       "       'Kaiserslautern', 'Saint Petersburg', 'Leeuwarden', 'Eindhoven',\n",
       "       'Hilversum', 'Gdańsk', 'Wroclaw', 'Limassol', 'Würzburg', 'Bremen',\n",
       "       'Lausanne', 'Stockholm', 'Rotterdam', 'Minsk', 'Utrecht', 'Kiev'],\n",
       "      dtype=object)"
      ]
     },
     "execution_count": 56,
     "metadata": {},
     "output_type": "execute_result"
    }
   ],
   "source": [
    "df['city'].unique()"
   ]
  },
  {
   "cell_type": "code",
   "execution_count": 57,
   "id": "8c49be4e",
   "metadata": {},
   "outputs": [
    {
     "data": {
      "text/plain": [
       "array(['Male', 'Female'], dtype=object)"
      ]
     },
     "execution_count": 57,
     "metadata": {},
     "output_type": "execute_result"
    }
   ],
   "source": [
    "df['gender'].unique()"
   ]
  },
  {
   "cell_type": "code",
   "execution_count": 58,
   "id": "d542e016",
   "metadata": {
    "scrolled": true
   },
   "outputs": [
    {
     "data": {
      "text/plain": [
       "Java                       101\n",
       "Python                      96\n",
       "Not Relevant                69\n",
       "Javascript / Typescript     55\n",
       "PHP                         33\n",
       "Kotlin                      24\n",
       "AWS                         21\n",
       "C/C++                       20\n",
       ".NET                        20\n",
       "R                           15\n",
       "Ruby                        13\n",
       "Swift                       11\n",
       "SQL                         10\n",
       "Go                           7\n",
       "Scala                        4\n",
       "Rust                         3\n",
       "Google Cloud                 3\n",
       "Kubernetes                   3\n",
       "Objective-C                  2\n",
       "Azure                        2\n",
       "SAS                          2\n",
       "Perl                         2\n",
       "Linux-Stack, Networking      1\n",
       "Yaml                         1\n",
       "SAP / ABAP                   1\n",
       "Solidity                     1\n",
       "ASM                          1\n",
       "Cobol                        1\n",
       "Cisco                        1\n",
       "Unity                        1\n",
       "ABAP                         1\n",
       "Name: main_technology, dtype: int64"
      ]
     },
     "execution_count": 58,
     "metadata": {},
     "output_type": "execute_result"
    }
   ],
   "source": [
    "df['main_technology'].value_counts() # quick look at the technologies used (looking for duplicates)"
   ]
  },
  {
   "cell_type": "markdown",
   "id": "9caed88d",
   "metadata": {},
   "source": [
    "Columns standarization and final form"
   ]
  },
  {
   "cell_type": "code",
   "execution_count": 59,
   "id": "6796bdd0",
   "metadata": {},
   "outputs": [],
   "source": [
    "df.rename(columns = {'yearly_brutto_salary': 'yearly_brutto_salary_eur_2019', \n",
    "                    'yearly_bonus': 'yearly_bonus_eur_2019', \n",
    "                    'yearly_brutto_salary_2018': 'yearly_brutto_salary_eur_2018', \n",
    "                     'yearly_bonus_2018': 'yearly_bonus_eur_2018'}, inplace = True)"
   ]
  },
  {
   "cell_type": "code",
   "execution_count": 60,
   "id": "b6a144ca",
   "metadata": {
    "scrolled": true
   },
   "outputs": [
    {
     "data": {
      "text/html": [
       "<div>\n",
       "<style scoped>\n",
       "    .dataframe tbody tr th:only-of-type {\n",
       "        vertical-align: middle;\n",
       "    }\n",
       "\n",
       "    .dataframe tbody tr th {\n",
       "        vertical-align: top;\n",
       "    }\n",
       "\n",
       "    .dataframe thead th {\n",
       "        text-align: right;\n",
       "    }\n",
       "</style>\n",
       "<table border=\"1\" class=\"dataframe\">\n",
       "  <thead>\n",
       "    <tr style=\"text-align: right;\">\n",
       "      <th></th>\n",
       "      <th>age</th>\n",
       "      <th>gender</th>\n",
       "      <th>city</th>\n",
       "      <th>seniority</th>\n",
       "      <th>position</th>\n",
       "      <th>experience_years</th>\n",
       "      <th>main_technology</th>\n",
       "      <th>yearly_brutto_salary_eur_2019</th>\n",
       "      <th>yearly_bonus_eur_2019</th>\n",
       "      <th>yearly_stocks</th>\n",
       "      <th>yearly_brutto_salary_eur_2018</th>\n",
       "      <th>yearly_bonus_eur_2018</th>\n",
       "      <th>yearly_stocks_2018</th>\n",
       "      <th>vacation_days</th>\n",
       "      <th>home_office_days_monthly</th>\n",
       "      <th>work_language</th>\n",
       "      <th>company_size</th>\n",
       "      <th>company_type</th>\n",
       "      <th>contract_duration</th>\n",
       "      <th>business_industry</th>\n",
       "    </tr>\n",
       "  </thead>\n",
       "  <tbody>\n",
       "    <tr>\n",
       "      <th>0</th>\n",
       "      <td>33</td>\n",
       "      <td>Male</td>\n",
       "      <td>Berlin</td>\n",
       "      <td>Senior</td>\n",
       "      <td>Fullstack Developer</td>\n",
       "      <td>13</td>\n",
       "      <td>PHP</td>\n",
       "      <td>64000</td>\n",
       "      <td>1000</td>\n",
       "      <td>0.0</td>\n",
       "      <td>58000</td>\n",
       "      <td>1000</td>\n",
       "      <td>0.0</td>\n",
       "      <td>29</td>\n",
       "      <td>4</td>\n",
       "      <td>English</td>\n",
       "      <td>50-100</td>\n",
       "      <td>Startup</td>\n",
       "      <td>unlimited</td>\n",
       "      <td>Tourism</td>\n",
       "    </tr>\n",
       "    <tr>\n",
       "      <th>1</th>\n",
       "      <td>29</td>\n",
       "      <td>Male</td>\n",
       "      <td>Berlin</td>\n",
       "      <td>Middle</td>\n",
       "      <td>Backend Developer</td>\n",
       "      <td>3</td>\n",
       "      <td>Python</td>\n",
       "      <td>55000</td>\n",
       "      <td>0</td>\n",
       "      <td>0.0</td>\n",
       "      <td>55000</td>\n",
       "      <td>0</td>\n",
       "      <td>0.0</td>\n",
       "      <td>22</td>\n",
       "      <td>4</td>\n",
       "      <td>English</td>\n",
       "      <td>10-50</td>\n",
       "      <td>Product</td>\n",
       "      <td>unlimited</td>\n",
       "      <td>Scientific Activities</td>\n",
       "    </tr>\n",
       "    <tr>\n",
       "      <th>2</th>\n",
       "      <td>32</td>\n",
       "      <td>Male</td>\n",
       "      <td>Berlin</td>\n",
       "      <td>Senior</td>\n",
       "      <td>Embedded Developer</td>\n",
       "      <td>10</td>\n",
       "      <td>C/C++</td>\n",
       "      <td>66000</td>\n",
       "      <td>0</td>\n",
       "      <td>0.0</td>\n",
       "      <td>56000</td>\n",
       "      <td>0</td>\n",
       "      <td>0.0</td>\n",
       "      <td>30</td>\n",
       "      <td>2</td>\n",
       "      <td>English</td>\n",
       "      <td>50-100</td>\n",
       "      <td>Product</td>\n",
       "      <td>unlimited</td>\n",
       "      <td>Automotive</td>\n",
       "    </tr>\n",
       "    <tr>\n",
       "      <th>3</th>\n",
       "      <td>33</td>\n",
       "      <td>Male</td>\n",
       "      <td>Berlin</td>\n",
       "      <td>Middle</td>\n",
       "      <td>Machine Learning Engineer</td>\n",
       "      <td>11</td>\n",
       "      <td>Python</td>\n",
       "      <td>80000</td>\n",
       "      <td>0</td>\n",
       "      <td>0.0</td>\n",
       "      <td>75000</td>\n",
       "      <td>0</td>\n",
       "      <td>0.0</td>\n",
       "      <td>27</td>\n",
       "      <td>5</td>\n",
       "      <td>English</td>\n",
       "      <td>1000+</td>\n",
       "      <td>Product</td>\n",
       "      <td>unlimited</td>\n",
       "      <td>Сommerce</td>\n",
       "    </tr>\n",
       "    <tr>\n",
       "      <th>4</th>\n",
       "      <td>38</td>\n",
       "      <td>Male</td>\n",
       "      <td>Berlin</td>\n",
       "      <td>Head</td>\n",
       "      <td>Manager</td>\n",
       "      <td>15</td>\n",
       "      <td>Not Relevant</td>\n",
       "      <td>81000</td>\n",
       "      <td>4000</td>\n",
       "      <td>0.0</td>\n",
       "      <td>75000</td>\n",
       "      <td>4000</td>\n",
       "      <td>0.0</td>\n",
       "      <td>30</td>\n",
       "      <td>10</td>\n",
       "      <td>German</td>\n",
       "      <td>100-1000</td>\n",
       "      <td>Product</td>\n",
       "      <td>unlimited</td>\n",
       "      <td>Automotive</td>\n",
       "    </tr>\n",
       "  </tbody>\n",
       "</table>\n",
       "</div>"
      ],
      "text/plain": [
       "   age gender    city seniority                   position  experience_years  \\\n",
       "0   33   Male  Berlin    Senior        Fullstack Developer                13   \n",
       "1   29   Male  Berlin    Middle          Backend Developer                 3   \n",
       "2   32   Male  Berlin    Senior         Embedded Developer                10   \n",
       "3   33   Male  Berlin    Middle  Machine Learning Engineer                11   \n",
       "4   38   Male  Berlin      Head                    Manager                15   \n",
       "\n",
       "  main_technology  yearly_brutto_salary_eur_2019  yearly_bonus_eur_2019  \\\n",
       "0             PHP                          64000                   1000   \n",
       "1          Python                          55000                      0   \n",
       "2           C/C++                          66000                      0   \n",
       "3          Python                          80000                      0   \n",
       "4    Not Relevant                          81000                   4000   \n",
       "\n",
       "   yearly_stocks  yearly_brutto_salary_eur_2018  yearly_bonus_eur_2018  \\\n",
       "0            0.0                          58000                   1000   \n",
       "1            0.0                          55000                      0   \n",
       "2            0.0                          56000                      0   \n",
       "3            0.0                          75000                      0   \n",
       "4            0.0                          75000                   4000   \n",
       "\n",
       "   yearly_stocks_2018  vacation_days  home_office_days_monthly work_language  \\\n",
       "0                 0.0             29                         4       English   \n",
       "1                 0.0             22                         4       English   \n",
       "2                 0.0             30                         2       English   \n",
       "3                 0.0             27                         5       English   \n",
       "4                 0.0             30                        10        German   \n",
       "\n",
       "  company_size company_type contract_duration      business_industry  \n",
       "0       50-100      Startup         unlimited                Tourism  \n",
       "1        10-50      Product         unlimited  Scientific Activities  \n",
       "2       50-100      Product         unlimited             Automotive  \n",
       "3        1000+      Product         unlimited               Сommerce  \n",
       "4     100-1000      Product         unlimited             Automotive  "
      ]
     },
     "execution_count": 60,
     "metadata": {},
     "output_type": "execute_result"
    }
   ],
   "source": [
    "df.head()"
   ]
  },
  {
   "cell_type": "code",
   "execution_count": 61,
   "id": "a80685a4",
   "metadata": {},
   "outputs": [],
   "source": [
    "df['main_technology'] = df.main_technology.astype('category')"
   ]
  },
  {
   "cell_type": "code",
   "execution_count": 62,
   "id": "08ae7944",
   "metadata": {},
   "outputs": [
    {
     "data": {
      "text/plain": [
       "pandas.core.series.Series"
      ]
     },
     "execution_count": 62,
     "metadata": {},
     "output_type": "execute_result"
    }
   ],
   "source": [
    "type(df['main_technology'])"
   ]
  },
  {
   "cell_type": "code",
   "execution_count": 63,
   "id": "300e2ec6",
   "metadata": {},
   "outputs": [
    {
     "name": "stdout",
     "output_type": "stream",
     "text": [
      "age                                 int32\n",
      "gender                             object\n",
      "city                               object\n",
      "seniority                          object\n",
      "position                           object\n",
      "experience_years                    int64\n",
      "main_technology                  category\n",
      "yearly_brutto_salary_eur_2019       int32\n",
      "yearly_bonus_eur_2019               int32\n",
      "yearly_stocks                     float64\n",
      "yearly_brutto_salary_eur_2018       int32\n",
      "yearly_bonus_eur_2018               int32\n",
      "yearly_stocks_2018                float64\n",
      "vacation_days                       int32\n",
      "home_office_days_monthly            int32\n",
      "work_language                      object\n",
      "company_size                       object\n",
      "company_type                       object\n",
      "contract_duration                  object\n",
      "business_industry                  object\n",
      "dtype: object\n"
     ]
    }
   ],
   "source": [
    "print(df.dtypes)"
   ]
  },
  {
   "cell_type": "code",
   "execution_count": 64,
   "id": "6e174eea",
   "metadata": {},
   "outputs": [
    {
     "name": "stdout",
     "output_type": "stream",
     "text": [
      "<class 'pandas.core.frame.DataFrame'>\n",
      "Int64Index: 525 entries, 0 to 527\n",
      "Data columns (total 20 columns):\n",
      " #   Column                         Non-Null Count  Dtype   \n",
      "---  ------                         --------------  -----   \n",
      " 0   age                            525 non-null    int32   \n",
      " 1   gender                         525 non-null    object  \n",
      " 2   city                           525 non-null    object  \n",
      " 3   seniority                      525 non-null    object  \n",
      " 4   position                       525 non-null    object  \n",
      " 5   experience_years               525 non-null    int64   \n",
      " 6   main_technology                525 non-null    category\n",
      " 7   yearly_brutto_salary_eur_2019  525 non-null    int32   \n",
      " 8   yearly_bonus_eur_2019          525 non-null    int32   \n",
      " 9   yearly_stocks                  525 non-null    float64 \n",
      " 10  yearly_brutto_salary_eur_2018  525 non-null    int32   \n",
      " 11  yearly_bonus_eur_2018          525 non-null    int32   \n",
      " 12  yearly_stocks_2018             525 non-null    float64 \n",
      " 13  vacation_days                  525 non-null    int32   \n",
      " 14  home_office_days_monthly       525 non-null    int32   \n",
      " 15  work_language                  525 non-null    object  \n",
      " 16  company_size                   525 non-null    object  \n",
      " 17  company_type                   525 non-null    object  \n",
      " 18  contract_duration              525 non-null    object  \n",
      " 19  business_industry              525 non-null    object  \n",
      "dtypes: category(1), float64(2), int32(7), int64(1), object(9)\n",
      "memory usage: 69.5+ KB\n"
     ]
    }
   ],
   "source": [
    "df.info()"
   ]
  },
  {
   "cell_type": "code",
   "execution_count": 65,
   "id": "c9e70c13",
   "metadata": {},
   "outputs": [],
   "source": [
    "df.to_csv(r'C:\\Users\\jsmvk\\Desktop\\projects\\eda project\\IT_Salary_Survey_EU_2019.csv', index = False)"
   ]
  },
  {
   "cell_type": "markdown",
   "id": "5889d098",
   "metadata": {},
   "source": [
    "# Exploratory Data Analysis"
   ]
  },
  {
   "cell_type": "code",
   "execution_count": 66,
   "id": "ad48f298",
   "metadata": {},
   "outputs": []
  },
  {
   "cell_type": "code",
   "execution_count": 67,
   "id": "dd6c3025",
   "metadata": {},
   "outputs": [],
   "source": [
    "import matplotlib.pyplot as plt\n",
    "import scipy.stats as scp"
   ]
  },
  {
   "cell_type": "code",
   "execution_count": 68,
   "id": "bd92b493",
   "metadata": {},
   "outputs": [
    {
     "data": {
      "text/html": [
       "<div>\n",
       "<style scoped>\n",
       "    .dataframe tbody tr th:only-of-type {\n",
       "        vertical-align: middle;\n",
       "    }\n",
       "\n",
       "    .dataframe tbody tr th {\n",
       "        vertical-align: top;\n",
       "    }\n",
       "\n",
       "    .dataframe thead th {\n",
       "        text-align: right;\n",
       "    }\n",
       "</style>\n",
       "<table border=\"1\" class=\"dataframe\">\n",
       "  <thead>\n",
       "    <tr style=\"text-align: right;\">\n",
       "      <th></th>\n",
       "      <th>age</th>\n",
       "      <th>experience_years</th>\n",
       "      <th>yearly_brutto_salary_eur_2019</th>\n",
       "      <th>yearly_bonus_eur_2019</th>\n",
       "      <th>yearly_stocks</th>\n",
       "      <th>yearly_brutto_salary_eur_2018</th>\n",
       "      <th>yearly_bonus_eur_2018</th>\n",
       "      <th>yearly_stocks_2018</th>\n",
       "      <th>vacation_days</th>\n",
       "      <th>home_office_days_monthly</th>\n",
       "    </tr>\n",
       "  </thead>\n",
       "  <tbody>\n",
       "    <tr>\n",
       "      <th>count</th>\n",
       "      <td>525.000000</td>\n",
       "      <td>525.000000</td>\n",
       "      <td>525.000000</td>\n",
       "      <td>525.000000</td>\n",
       "      <td>525.000000</td>\n",
       "      <td>525.000000</td>\n",
       "      <td>525.000000</td>\n",
       "      <td>525.000000</td>\n",
       "      <td>525.000000</td>\n",
       "      <td>525.000000</td>\n",
       "    </tr>\n",
       "    <tr>\n",
       "      <th>mean</th>\n",
       "      <td>32.904762</td>\n",
       "      <td>9.232381</td>\n",
       "      <td>72713.537143</td>\n",
       "      <td>3942.388571</td>\n",
       "      <td>1767.391067</td>\n",
       "      <td>65593.140952</td>\n",
       "      <td>3942.388571</td>\n",
       "      <td>804.901333</td>\n",
       "      <td>27.480000</td>\n",
       "      <td>5.207619</td>\n",
       "    </tr>\n",
       "    <tr>\n",
       "      <th>std</th>\n",
       "      <td>4.818309</td>\n",
       "      <td>5.033030</td>\n",
       "      <td>20283.400241</td>\n",
       "      <td>8041.673802</td>\n",
       "      <td>7488.402274</td>\n",
       "      <td>20316.706681</td>\n",
       "      <td>8041.673802</td>\n",
       "      <td>4355.561508</td>\n",
       "      <td>4.764099</td>\n",
       "      <td>5.029374</td>\n",
       "    </tr>\n",
       "    <tr>\n",
       "      <th>min</th>\n",
       "      <td>21.000000</td>\n",
       "      <td>0.000000</td>\n",
       "      <td>14000.000000</td>\n",
       "      <td>0.000000</td>\n",
       "      <td>0.000000</td>\n",
       "      <td>0.000000</td>\n",
       "      <td>0.000000</td>\n",
       "      <td>0.000000</td>\n",
       "      <td>0.000000</td>\n",
       "      <td>1.000000</td>\n",
       "    </tr>\n",
       "    <tr>\n",
       "      <th>25%</th>\n",
       "      <td>30.000000</td>\n",
       "      <td>5.000000</td>\n",
       "      <td>61000.000000</td>\n",
       "      <td>0.000000</td>\n",
       "      <td>0.000000</td>\n",
       "      <td>55000.000000</td>\n",
       "      <td>0.000000</td>\n",
       "      <td>0.000000</td>\n",
       "      <td>25.000000</td>\n",
       "      <td>2.000000</td>\n",
       "    </tr>\n",
       "    <tr>\n",
       "      <th>50%</th>\n",
       "      <td>32.000000</td>\n",
       "      <td>9.000000</td>\n",
       "      <td>70000.000000</td>\n",
       "      <td>0.000000</td>\n",
       "      <td>0.000000</td>\n",
       "      <td>65000.000000</td>\n",
       "      <td>0.000000</td>\n",
       "      <td>0.000000</td>\n",
       "      <td>28.000000</td>\n",
       "      <td>4.000000</td>\n",
       "    </tr>\n",
       "    <tr>\n",
       "      <th>75%</th>\n",
       "      <td>35.000000</td>\n",
       "      <td>12.000000</td>\n",
       "      <td>80000.000000</td>\n",
       "      <td>5000.000000</td>\n",
       "      <td>0.000000</td>\n",
       "      <td>75000.000000</td>\n",
       "      <td>5000.000000</td>\n",
       "      <td>0.000000</td>\n",
       "      <td>30.000000</td>\n",
       "      <td>5.000000</td>\n",
       "    </tr>\n",
       "    <tr>\n",
       "      <th>max</th>\n",
       "      <td>52.000000</td>\n",
       "      <td>30.000000</td>\n",
       "      <td>200000.000000</td>\n",
       "      <td>80000.000000</td>\n",
       "      <td>84000.000000</td>\n",
       "      <td>200000.000000</td>\n",
       "      <td>80000.000000</td>\n",
       "      <td>60000.000000</td>\n",
       "      <td>45.000000</td>\n",
       "      <td>20.000000</td>\n",
       "    </tr>\n",
       "  </tbody>\n",
       "</table>\n",
       "</div>"
      ],
      "text/plain": [
       "              age  experience_years  yearly_brutto_salary_eur_2019  \\\n",
       "count  525.000000        525.000000                     525.000000   \n",
       "mean    32.904762          9.232381                   72713.537143   \n",
       "std      4.818309          5.033030                   20283.400241   \n",
       "min     21.000000          0.000000                   14000.000000   \n",
       "25%     30.000000          5.000000                   61000.000000   \n",
       "50%     32.000000          9.000000                   70000.000000   \n",
       "75%     35.000000         12.000000                   80000.000000   \n",
       "max     52.000000         30.000000                  200000.000000   \n",
       "\n",
       "       yearly_bonus_eur_2019  yearly_stocks  yearly_brutto_salary_eur_2018  \\\n",
       "count             525.000000     525.000000                     525.000000   \n",
       "mean             3942.388571    1767.391067                   65593.140952   \n",
       "std              8041.673802    7488.402274                   20316.706681   \n",
       "min                 0.000000       0.000000                       0.000000   \n",
       "25%                 0.000000       0.000000                   55000.000000   \n",
       "50%                 0.000000       0.000000                   65000.000000   \n",
       "75%              5000.000000       0.000000                   75000.000000   \n",
       "max             80000.000000   84000.000000                  200000.000000   \n",
       "\n",
       "       yearly_bonus_eur_2018  yearly_stocks_2018  vacation_days  \\\n",
       "count             525.000000          525.000000     525.000000   \n",
       "mean             3942.388571          804.901333      27.480000   \n",
       "std              8041.673802         4355.561508       4.764099   \n",
       "min                 0.000000            0.000000       0.000000   \n",
       "25%                 0.000000            0.000000      25.000000   \n",
       "50%                 0.000000            0.000000      28.000000   \n",
       "75%              5000.000000            0.000000      30.000000   \n",
       "max             80000.000000        60000.000000      45.000000   \n",
       "\n",
       "       home_office_days_monthly  \n",
       "count                525.000000  \n",
       "mean                   5.207619  \n",
       "std                    5.029374  \n",
       "min                    1.000000  \n",
       "25%                    2.000000  \n",
       "50%                    4.000000  \n",
       "75%                    5.000000  \n",
       "max                   20.000000  "
      ]
     },
     "execution_count": 68,
     "metadata": {},
     "output_type": "execute_result"
    }
   ],
   "source": [
    "df.describe()"
   ]
  },
  {
   "cell_type": "markdown",
   "id": "e2d23bfa",
   "metadata": {},
   "source": [
    "## Estimates of location"
   ]
  },
  {
   "cell_type": "code",
   "execution_count": 69,
   "id": "11b893b0",
   "metadata": {},
   "outputs": [
    {
     "data": {
      "text/plain": [
       "array([13,  3, 10, 11, 15,  8,  7,  6,  9, 12,  2, 16,  4,  5, 14, 20, 18,\n",
       "       25, 17,  1, 22,  0, 24, 19, 30], dtype=int64)"
      ]
     },
     "execution_count": 69,
     "metadata": {},
     "output_type": "execute_result"
    }
   ],
   "source": [
    "df['experience_years'].unique()"
   ]
  },
  {
   "cell_type": "code",
   "execution_count": 70,
   "id": "451d842d",
   "metadata": {},
   "outputs": [
    {
     "data": {
      "text/plain": [
       "9.79304874048867"
      ]
     },
     "execution_count": 70,
     "metadata": {},
     "output_type": "execute_result"
    }
   ],
   "source": [
    "np.average(df['experience_years'], weights=df['yearly_brutto_salary_eur_2019'])"
   ]
  },
  {
   "cell_type": "code",
   "execution_count": 71,
   "id": "b3d79007",
   "metadata": {},
   "outputs": [
    {
     "data": {
      "text/plain": [
       "Text(0, 0.5, '2019 salary')"
      ]
     },
     "execution_count": 71,
     "metadata": {},
     "output_type": "execute_result"
    },
    {
     "data": {
      "image/png": "[encoded data removed]",
      "text/plain": [
       "<Figure size 432x288 with 1 Axes>"
      ]
     },
     "metadata": {
      "needs_background": "light"
     },
     "output_type": "display_data"
    }
   ],
   "source": [
    "plt.boxplot(df['yearly_brutto_salary_eur_2019'])\n",
    "plt.ylabel('2019 salary')"
   ]
  },
  {
   "cell_type": "code",
   "execution_count": 72,
   "id": "80993fd9",
   "metadata": {},
   "outputs": [
    {
     "data": {
      "text/plain": [
       "70425.52380952382"
      ]
     },
     "execution_count": 72,
     "metadata": {},
     "output_type": "execute_result"
    }
   ],
   "source": [
    "scp.trim_mean(df['yearly_brutto_salary_eur_2019'], proportiontocut=0.2)"
   ]
  },
  {
   "cell_type": "code",
   "execution_count": 73,
   "id": "4581b9db",
   "metadata": {},
   "outputs": [
    {
     "data": {
      "text/plain": [
       "70000.0"
      ]
     },
     "execution_count": 73,
     "metadata": {},
     "output_type": "execute_result"
    }
   ],
   "source": [
    "np.median(df['yearly_brutto_salary_eur_2019'])"
   ]
  },
  {
   "cell_type": "code",
   "execution_count": 74,
   "id": "68cf7c97",
   "metadata": {},
   "outputs": [
    {
     "data": {
      "text/plain": [
       "array([ 1000,     0,  4000,  5500,  6000,  6500, 16000,  2000,  4650,\n",
       "        9000, 13000,   200, 10000, 10500,  3800,  3000,  2500, 12000,\n",
       "       80000,  5000,  8000, 11000,  3060,  1500,  7900, 25000,  4800,\n",
       "           1,  6800,  7800, 15000,  7000, 37000, 36000, 14000,  6700,\n",
       "        1400,  6250,  9600,  7500, 19000,    10, 20000,  7200,  5300,\n",
       "       43000, 55000,  8900,   300, 13500,  4500,  4170,  8500, 28000,\n",
       "       30000,  3300, 11400, 17000, 18000,  1200,  4300,  8800])"
      ]
     },
     "execution_count": 74,
     "metadata": {},
     "output_type": "execute_result"
    }
   ],
   "source": [
    "df['yearly_bonus_eur_2019'].unique()"
   ]
  },
  {
   "cell_type": "code",
   "execution_count": 75,
   "id": "47353f61",
   "metadata": {},
   "outputs": [
    {
     "data": {
      "text/plain": [
       "0        301\n",
       "5000      34\n",
       "3000      20\n",
       "10000     17\n",
       "6000      12\n",
       "        ... \n",
       "6700       1\n",
       "36000      1\n",
       "37000      1\n",
       "7900       1\n",
       "8800       1\n",
       "Name: yearly_bonus_eur_2019, Length: 62, dtype: int64"
      ]
     },
     "execution_count": 75,
     "metadata": {},
     "output_type": "execute_result"
    }
   ],
   "source": [
    "df['yearly_bonus_eur_2019'].value_counts()"
   ]
  },
  {
   "cell_type": "code",
   "execution_count": 76,
   "id": "dc7fe1a5",
   "metadata": {},
   "outputs": [
    {
     "data": {
      "text/plain": [
       "0.0"
      ]
     },
     "execution_count": 76,
     "metadata": {},
     "output_type": "execute_result"
    }
   ],
   "source": [
    "np.median(df['yearly_bonus_eur_2019'])"
   ]
  },
  {
   "cell_type": "code",
   "execution_count": 77,
   "id": "d4f1acb6",
   "metadata": {},
   "outputs": [
    {
     "data": {
      "text/plain": [
       "Text(0, 0.5, '2019 bonus')"
      ]
     },
     "execution_count": 77,
     "metadata": {},
     "output_type": "execute_result"
    },
    {
     "data": {
      "image/png": "[encoded data removed]",
      "text/plain": [
       "<Figure size 432x288 with 1 Axes>"
      ]
     },
     "metadata": {
      "needs_background": "light"
     },
     "output_type": "display_data"
    }
   ],
   "source": [
    "plt.boxplot(df['yearly_bonus_eur_2019'])\n",
    "plt.ylabel('2019 bonus')"
   ]
  },
  {
   "cell_type": "code",
   "execution_count": 78,
   "id": "988042e8",
   "metadata": {},
   "outputs": [
    {
     "data": {
      "text/plain": [
       "0.0"
      ]
     },
     "execution_count": 78,
     "metadata": {},
     "output_type": "execute_result"
    }
   ],
   "source": [
    "np.median(df['yearly_stocks'])"
   ]
  },
  {
   "cell_type": "code",
   "execution_count": 79,
   "id": "d4e47b29",
   "metadata": {},
   "outputs": [
    {
     "data": {
      "text/plain": [
       "65000.0"
      ]
     },
     "execution_count": 79,
     "metadata": {},
     "output_type": "execute_result"
    }
   ],
   "source": [
    "np.median(df['yearly_brutto_salary_eur_2018'])"
   ]
  },
  {
   "cell_type": "code",
   "execution_count": 80,
   "id": "c348f876",
   "metadata": {},
   "outputs": [
    {
     "data": {
      "text/plain": [
       "0.0"
      ]
     },
     "execution_count": 80,
     "metadata": {},
     "output_type": "execute_result"
    }
   ],
   "source": [
    "np.median(df['yearly_bonus_eur_2018'])"
   ]
  },
  {
   "cell_type": "code",
   "execution_count": 81,
   "id": "b472edc2",
   "metadata": {},
   "outputs": [
    {
     "data": {
      "text/plain": [
       "0.0"
      ]
     },
     "execution_count": 81,
     "metadata": {},
     "output_type": "execute_result"
    }
   ],
   "source": [
    "np.median(df['yearly_stocks_2018'])"
   ]
  },
  {
   "cell_type": "code",
   "execution_count": 82,
   "id": "dc0787f4",
   "metadata": {},
   "outputs": [
    {
     "data": {
      "text/plain": [
       "Text(0, 0.5, 'vacation days a year')"
      ]
     },
     "execution_count": 82,
     "metadata": {},
     "output_type": "execute_result"
    },
    {
     "data": {
      "image/png": "[encoded data removed]",
      "text/plain": [
       "<Figure size 432x288 with 1 Axes>"
      ]
     },
     "metadata": {
      "needs_background": "light"
     },
     "output_type": "display_data"
    }
   ],
   "source": [
    "plt.boxplot(df['vacation_days'])\n",
    "plt.ylabel('vacation days a year')"
   ]
  },
  {
   "cell_type": "code",
   "execution_count": 83,
   "id": "3812dff7",
   "metadata": {},
   "outputs": [
    {
     "data": {
      "text/plain": [
       "28.0"
      ]
     },
     "execution_count": 83,
     "metadata": {},
     "output_type": "execute_result"
    }
   ],
   "source": [
    "np.median(df['vacation_days'])"
   ]
  },
  {
   "cell_type": "code",
   "execution_count": 84,
   "id": "87facd44",
   "metadata": {},
   "outputs": [
    {
     "data": {
      "text/plain": [
       "Text(0, 0.5, 'home office days monthly')"
      ]
     },
     "execution_count": 84,
     "metadata": {},
     "output_type": "execute_result"
    },
    {
     "data": {
      "image/png": "[encoded data removed]",
      "text/plain": [
       "<Figure size 432x288 with 1 Axes>"
      ]
     },
     "metadata": {
      "needs_background": "light"
     },
     "output_type": "display_data"
    }
   ],
   "source": [
    "plt.boxplot(df['home_office_days_monthly'])\n",
    "plt.ylabel('home office days monthly')"
   ]
  },
  {
   "cell_type": "code",
   "execution_count": 85,
   "id": "81771b87",
   "metadata": {},
   "outputs": [
    {
     "data": {
      "text/plain": [
       "4.0"
      ]
     },
     "execution_count": 85,
     "metadata": {},
     "output_type": "execute_result"
    }
   ],
   "source": [
    "np.median(df['home_office_days_monthly'])"
   ]
  },
  {
   "cell_type": "markdown",
   "id": "20252d79",
   "metadata": {},
   "source": [
    "## Estimates of variability"
   ]
  },
  {
   "cell_type": "code",
   "execution_count": 86,
   "id": "638878b8",
   "metadata": {},
   "outputs": [
    {
     "data": {
      "text/html": [
       "<div>\n",
       "<style scoped>\n",
       "    .dataframe tbody tr th:only-of-type {\n",
       "        vertical-align: middle;\n",
       "    }\n",
       "\n",
       "    .dataframe tbody tr th {\n",
       "        vertical-align: top;\n",
       "    }\n",
       "\n",
       "    .dataframe thead th {\n",
       "        text-align: right;\n",
       "    }\n",
       "</style>\n",
       "<table border=\"1\" class=\"dataframe\">\n",
       "  <thead>\n",
       "    <tr style=\"text-align: right;\">\n",
       "      <th></th>\n",
       "      <th>age</th>\n",
       "      <th>gender</th>\n",
       "      <th>city</th>\n",
       "      <th>seniority</th>\n",
       "      <th>position</th>\n",
       "      <th>experience_years</th>\n",
       "      <th>main_technology</th>\n",
       "      <th>yearly_brutto_salary_eur_2019</th>\n",
       "      <th>yearly_bonus_eur_2019</th>\n",
       "      <th>yearly_stocks</th>\n",
       "      <th>yearly_brutto_salary_eur_2018</th>\n",
       "      <th>yearly_bonus_eur_2018</th>\n",
       "      <th>yearly_stocks_2018</th>\n",
       "      <th>vacation_days</th>\n",
       "      <th>home_office_days_monthly</th>\n",
       "      <th>work_language</th>\n",
       "      <th>company_size</th>\n",
       "      <th>company_type</th>\n",
       "      <th>contract_duration</th>\n",
       "      <th>business_industry</th>\n",
       "    </tr>\n",
       "  </thead>\n",
       "  <tbody>\n",
       "    <tr>\n",
       "      <th>0</th>\n",
       "      <td>33</td>\n",
       "      <td>Male</td>\n",
       "      <td>Berlin</td>\n",
       "      <td>Senior</td>\n",
       "      <td>Fullstack Developer</td>\n",
       "      <td>13</td>\n",
       "      <td>PHP</td>\n",
       "      <td>64000</td>\n",
       "      <td>1000</td>\n",
       "      <td>0.0</td>\n",
       "      <td>58000</td>\n",
       "      <td>1000</td>\n",
       "      <td>0.0</td>\n",
       "      <td>29</td>\n",
       "      <td>4</td>\n",
       "      <td>English</td>\n",
       "      <td>50-100</td>\n",
       "      <td>Startup</td>\n",
       "      <td>unlimited</td>\n",
       "      <td>Tourism</td>\n",
       "    </tr>\n",
       "    <tr>\n",
       "      <th>1</th>\n",
       "      <td>29</td>\n",
       "      <td>Male</td>\n",
       "      <td>Berlin</td>\n",
       "      <td>Middle</td>\n",
       "      <td>Backend Developer</td>\n",
       "      <td>3</td>\n",
       "      <td>Python</td>\n",
       "      <td>55000</td>\n",
       "      <td>0</td>\n",
       "      <td>0.0</td>\n",
       "      <td>55000</td>\n",
       "      <td>0</td>\n",
       "      <td>0.0</td>\n",
       "      <td>22</td>\n",
       "      <td>4</td>\n",
       "      <td>English</td>\n",
       "      <td>10-50</td>\n",
       "      <td>Product</td>\n",
       "      <td>unlimited</td>\n",
       "      <td>Scientific Activities</td>\n",
       "    </tr>\n",
       "    <tr>\n",
       "      <th>2</th>\n",
       "      <td>32</td>\n",
       "      <td>Male</td>\n",
       "      <td>Berlin</td>\n",
       "      <td>Senior</td>\n",
       "      <td>Embedded Developer</td>\n",
       "      <td>10</td>\n",
       "      <td>C/C++</td>\n",
       "      <td>66000</td>\n",
       "      <td>0</td>\n",
       "      <td>0.0</td>\n",
       "      <td>56000</td>\n",
       "      <td>0</td>\n",
       "      <td>0.0</td>\n",
       "      <td>30</td>\n",
       "      <td>2</td>\n",
       "      <td>English</td>\n",
       "      <td>50-100</td>\n",
       "      <td>Product</td>\n",
       "      <td>unlimited</td>\n",
       "      <td>Automotive</td>\n",
       "    </tr>\n",
       "    <tr>\n",
       "      <th>3</th>\n",
       "      <td>33</td>\n",
       "      <td>Male</td>\n",
       "      <td>Berlin</td>\n",
       "      <td>Middle</td>\n",
       "      <td>Machine Learning Engineer</td>\n",
       "      <td>11</td>\n",
       "      <td>Python</td>\n",
       "      <td>80000</td>\n",
       "      <td>0</td>\n",
       "      <td>0.0</td>\n",
       "      <td>75000</td>\n",
       "      <td>0</td>\n",
       "      <td>0.0</td>\n",
       "      <td>27</td>\n",
       "      <td>5</td>\n",
       "      <td>English</td>\n",
       "      <td>1000+</td>\n",
       "      <td>Product</td>\n",
       "      <td>unlimited</td>\n",
       "      <td>Сommerce</td>\n",
       "    </tr>\n",
       "    <tr>\n",
       "      <th>4</th>\n",
       "      <td>38</td>\n",
       "      <td>Male</td>\n",
       "      <td>Berlin</td>\n",
       "      <td>Head</td>\n",
       "      <td>Manager</td>\n",
       "      <td>15</td>\n",
       "      <td>Not Relevant</td>\n",
       "      <td>81000</td>\n",
       "      <td>4000</td>\n",
       "      <td>0.0</td>\n",
       "      <td>75000</td>\n",
       "      <td>4000</td>\n",
       "      <td>0.0</td>\n",
       "      <td>30</td>\n",
       "      <td>10</td>\n",
       "      <td>German</td>\n",
       "      <td>100-1000</td>\n",
       "      <td>Product</td>\n",
       "      <td>unlimited</td>\n",
       "      <td>Automotive</td>\n",
       "    </tr>\n",
       "  </tbody>\n",
       "</table>\n",
       "</div>"
      ],
      "text/plain": [
       "   age gender    city seniority                   position  experience_years  \\\n",
       "0   33   Male  Berlin    Senior        Fullstack Developer                13   \n",
       "1   29   Male  Berlin    Middle          Backend Developer                 3   \n",
       "2   32   Male  Berlin    Senior         Embedded Developer                10   \n",
       "3   33   Male  Berlin    Middle  Machine Learning Engineer                11   \n",
       "4   38   Male  Berlin      Head                    Manager                15   \n",
       "\n",
       "  main_technology  yearly_brutto_salary_eur_2019  yearly_bonus_eur_2019  \\\n",
       "0             PHP                          64000                   1000   \n",
       "1          Python                          55000                      0   \n",
       "2           C/C++                          66000                      0   \n",
       "3          Python                          80000                      0   \n",
       "4    Not Relevant                          81000                   4000   \n",
       "\n",
       "   yearly_stocks  yearly_brutto_salary_eur_2018  yearly_bonus_eur_2018  \\\n",
       "0            0.0                          58000                   1000   \n",
       "1            0.0                          55000                      0   \n",
       "2            0.0                          56000                      0   \n",
       "3            0.0                          75000                      0   \n",
       "4            0.0                          75000                   4000   \n",
       "\n",
       "   yearly_stocks_2018  vacation_days  home_office_days_monthly work_language  \\\n",
       "0                 0.0             29                         4       English   \n",
       "1                 0.0             22                         4       English   \n",
       "2                 0.0             30                         2       English   \n",
       "3                 0.0             27                         5       English   \n",
       "4                 0.0             30                        10        German   \n",
       "\n",
       "  company_size company_type contract_duration      business_industry  \n",
       "0       50-100      Startup         unlimited                Tourism  \n",
       "1        10-50      Product         unlimited  Scientific Activities  \n",
       "2       50-100      Product         unlimited             Automotive  \n",
       "3        1000+      Product         unlimited               Сommerce  \n",
       "4     100-1000      Product         unlimited             Automotive  "
      ]
     },
     "execution_count": 86,
     "metadata": {},
     "output_type": "execute_result"
    }
   ],
   "source": [
    "df.head()"
   ]
  },
  {
   "cell_type": "code",
   "execution_count": 87,
   "id": "be93b00a",
   "metadata": {},
   "outputs": [
    {
     "data": {
      "text/plain": [
       "23.171882086167855"
      ]
     },
     "execution_count": 87,
     "metadata": {},
     "output_type": "execute_result"
    }
   ],
   "source": [
    "np.var(df['age'])"
   ]
  },
  {
   "cell_type": "code",
   "execution_count": 88,
   "id": "f0eea013",
   "metadata": {},
   "outputs": [
    {
     "data": {
      "text/plain": [
       "25.283141950113407"
      ]
     },
     "execution_count": 88,
     "metadata": {},
     "output_type": "execute_result"
    }
   ],
   "source": [
    "np.var(df['experience_years'])"
   ]
  },
  {
   "cell_type": "code",
   "execution_count": 89,
   "id": "8b19b49b",
   "metadata": {},
   "outputs": [
    {
     "data": {
      "text/plain": [
       "410632675.1819542"
      ]
     },
     "execution_count": 89,
     "metadata": {},
     "output_type": "execute_result"
    }
   ],
   "source": [
    "np.var(df['yearly_brutto_salary_eur_2019'])"
   ]
  },
  {
   "cell_type": "code",
   "execution_count": 90,
   "id": "9e807709",
   "metadata": {
    "scrolled": true
   },
   "outputs": [
    {
     "data": {
      "text/plain": [
       "age                                  3.680907\n",
       "experience_years                     4.024882\n",
       "yearly_brutto_salary_eur_2019    14209.229257\n",
       "yearly_bonus_eur_2019             4867.626667\n",
       "yearly_stocks                     3123.291151\n",
       "yearly_brutto_salary_eur_2018    14017.338282\n",
       "yearly_bonus_eur_2018             4867.626667\n",
       "yearly_stocks_2018                1496.242103\n",
       "vacation_days                        2.830476\n",
       "home_office_days_monthly             3.468575\n",
       "dtype: float64"
      ]
     },
     "execution_count": 90,
     "metadata": {},
     "output_type": "execute_result"
    }
   ],
   "source": [
    "df.mad() # mean absolute distribution"
   ]
  },
  {
   "cell_type": "code",
   "execution_count": 91,
   "id": "5a459aef",
   "metadata": {},
   "outputs": [
    {
     "data": {
      "text/plain": [
       "411982344.5058468"
      ]
     },
     "execution_count": 91,
     "metadata": {},
     "output_type": "execute_result"
    }
   ],
   "source": [
    "np.var(df['yearly_brutto_salary_eur_2018'])"
   ]
  },
  {
   "cell_type": "code",
   "execution_count": 92,
   "id": "f623f9a3",
   "metadata": {
    "scrolled": true
   },
   "outputs": [
    {
     "data": {
      "text/plain": [
       "22.65340952380949"
      ]
     },
     "execution_count": 92,
     "metadata": {},
     "output_type": "execute_result"
    }
   ],
   "source": [
    "np.var(df['vacation_days'])"
   ]
  },
  {
   "cell_type": "code",
   "execution_count": 93,
   "id": "f1a202ef",
   "metadata": {},
   "outputs": [
    {
     "data": {
      "text/plain": [
       "25.246418140589586"
      ]
     },
     "execution_count": 93,
     "metadata": {},
     "output_type": "execute_result"
    }
   ],
   "source": [
    "np.var(df['home_office_days_monthly'])"
   ]
  },
  {
   "cell_type": "markdown",
   "id": "f818a8af",
   "metadata": {},
   "source": [
    "## Data distribution"
   ]
  },
  {
   "cell_type": "code",
   "execution_count": 94,
   "id": "4b397ad2",
   "metadata": {},
   "outputs": [
    {
     "data": {
      "text/html": [
       "<div>\n",
       "<style scoped>\n",
       "    .dataframe tbody tr th:only-of-type {\n",
       "        vertical-align: middle;\n",
       "    }\n",
       "\n",
       "    .dataframe tbody tr th {\n",
       "        vertical-align: top;\n",
       "    }\n",
       "\n",
       "    .dataframe thead th {\n",
       "        text-align: right;\n",
       "    }\n",
       "</style>\n",
       "<table border=\"1\" class=\"dataframe\">\n",
       "  <thead>\n",
       "    <tr style=\"text-align: right;\">\n",
       "      <th></th>\n",
       "      <th>age</th>\n",
       "      <th>gender</th>\n",
       "      <th>city</th>\n",
       "      <th>seniority</th>\n",
       "      <th>position</th>\n",
       "      <th>experience_years</th>\n",
       "      <th>main_technology</th>\n",
       "      <th>yearly_brutto_salary_eur_2019</th>\n",
       "      <th>yearly_bonus_eur_2019</th>\n",
       "      <th>yearly_stocks</th>\n",
       "      <th>yearly_brutto_salary_eur_2018</th>\n",
       "      <th>yearly_bonus_eur_2018</th>\n",
       "      <th>yearly_stocks_2018</th>\n",
       "      <th>vacation_days</th>\n",
       "      <th>home_office_days_monthly</th>\n",
       "      <th>work_language</th>\n",
       "      <th>company_size</th>\n",
       "      <th>company_type</th>\n",
       "      <th>contract_duration</th>\n",
       "      <th>business_industry</th>\n",
       "    </tr>\n",
       "  </thead>\n",
       "  <tbody>\n",
       "    <tr>\n",
       "      <th>0</th>\n",
       "      <td>33</td>\n",
       "      <td>Male</td>\n",
       "      <td>Berlin</td>\n",
       "      <td>Senior</td>\n",
       "      <td>Fullstack Developer</td>\n",
       "      <td>13</td>\n",
       "      <td>PHP</td>\n",
       "      <td>64000</td>\n",
       "      <td>1000</td>\n",
       "      <td>0.0</td>\n",
       "      <td>58000</td>\n",
       "      <td>1000</td>\n",
       "      <td>0.0</td>\n",
       "      <td>29</td>\n",
       "      <td>4</td>\n",
       "      <td>English</td>\n",
       "      <td>50-100</td>\n",
       "      <td>Startup</td>\n",
       "      <td>unlimited</td>\n",
       "      <td>Tourism</td>\n",
       "    </tr>\n",
       "    <tr>\n",
       "      <th>1</th>\n",
       "      <td>29</td>\n",
       "      <td>Male</td>\n",
       "      <td>Berlin</td>\n",
       "      <td>Middle</td>\n",
       "      <td>Backend Developer</td>\n",
       "      <td>3</td>\n",
       "      <td>Python</td>\n",
       "      <td>55000</td>\n",
       "      <td>0</td>\n",
       "      <td>0.0</td>\n",
       "      <td>55000</td>\n",
       "      <td>0</td>\n",
       "      <td>0.0</td>\n",
       "      <td>22</td>\n",
       "      <td>4</td>\n",
       "      <td>English</td>\n",
       "      <td>10-50</td>\n",
       "      <td>Product</td>\n",
       "      <td>unlimited</td>\n",
       "      <td>Scientific Activities</td>\n",
       "    </tr>\n",
       "    <tr>\n",
       "      <th>2</th>\n",
       "      <td>32</td>\n",
       "      <td>Male</td>\n",
       "      <td>Berlin</td>\n",
       "      <td>Senior</td>\n",
       "      <td>Embedded Developer</td>\n",
       "      <td>10</td>\n",
       "      <td>C/C++</td>\n",
       "      <td>66000</td>\n",
       "      <td>0</td>\n",
       "      <td>0.0</td>\n",
       "      <td>56000</td>\n",
       "      <td>0</td>\n",
       "      <td>0.0</td>\n",
       "      <td>30</td>\n",
       "      <td>2</td>\n",
       "      <td>English</td>\n",
       "      <td>50-100</td>\n",
       "      <td>Product</td>\n",
       "      <td>unlimited</td>\n",
       "      <td>Automotive</td>\n",
       "    </tr>\n",
       "    <tr>\n",
       "      <th>3</th>\n",
       "      <td>33</td>\n",
       "      <td>Male</td>\n",
       "      <td>Berlin</td>\n",
       "      <td>Middle</td>\n",
       "      <td>Machine Learning Engineer</td>\n",
       "      <td>11</td>\n",
       "      <td>Python</td>\n",
       "      <td>80000</td>\n",
       "      <td>0</td>\n",
       "      <td>0.0</td>\n",
       "      <td>75000</td>\n",
       "      <td>0</td>\n",
       "      <td>0.0</td>\n",
       "      <td>27</td>\n",
       "      <td>5</td>\n",
       "      <td>English</td>\n",
       "      <td>1000+</td>\n",
       "      <td>Product</td>\n",
       "      <td>unlimited</td>\n",
       "      <td>Сommerce</td>\n",
       "    </tr>\n",
       "    <tr>\n",
       "      <th>4</th>\n",
       "      <td>38</td>\n",
       "      <td>Male</td>\n",
       "      <td>Berlin</td>\n",
       "      <td>Head</td>\n",
       "      <td>Manager</td>\n",
       "      <td>15</td>\n",
       "      <td>Not Relevant</td>\n",
       "      <td>81000</td>\n",
       "      <td>4000</td>\n",
       "      <td>0.0</td>\n",
       "      <td>75000</td>\n",
       "      <td>4000</td>\n",
       "      <td>0.0</td>\n",
       "      <td>30</td>\n",
       "      <td>10</td>\n",
       "      <td>German</td>\n",
       "      <td>100-1000</td>\n",
       "      <td>Product</td>\n",
       "      <td>unlimited</td>\n",
       "      <td>Automotive</td>\n",
       "    </tr>\n",
       "  </tbody>\n",
       "</table>\n",
       "</div>"
      ],
      "text/plain": [
       "   age gender    city seniority                   position  experience_years  \\\n",
       "0   33   Male  Berlin    Senior        Fullstack Developer                13   \n",
       "1   29   Male  Berlin    Middle          Backend Developer                 3   \n",
       "2   32   Male  Berlin    Senior         Embedded Developer                10   \n",
       "3   33   Male  Berlin    Middle  Machine Learning Engineer                11   \n",
       "4   38   Male  Berlin      Head                    Manager                15   \n",
       "\n",
       "  main_technology  yearly_brutto_salary_eur_2019  yearly_bonus_eur_2019  \\\n",
       "0             PHP                          64000                   1000   \n",
       "1          Python                          55000                      0   \n",
       "2           C/C++                          66000                      0   \n",
       "3          Python                          80000                      0   \n",
       "4    Not Relevant                          81000                   4000   \n",
       "\n",
       "   yearly_stocks  yearly_brutto_salary_eur_2018  yearly_bonus_eur_2018  \\\n",
       "0            0.0                          58000                   1000   \n",
       "1            0.0                          55000                      0   \n",
       "2            0.0                          56000                      0   \n",
       "3            0.0                          75000                      0   \n",
       "4            0.0                          75000                   4000   \n",
       "\n",
       "   yearly_stocks_2018  vacation_days  home_office_days_monthly work_language  \\\n",
       "0                 0.0             29                         4       English   \n",
       "1                 0.0             22                         4       English   \n",
       "2                 0.0             30                         2       English   \n",
       "3                 0.0             27                         5       English   \n",
       "4                 0.0             30                        10        German   \n",
       "\n",
       "  company_size company_type contract_duration      business_industry  \n",
       "0       50-100      Startup         unlimited                Tourism  \n",
       "1        10-50      Product         unlimited  Scientific Activities  \n",
       "2       50-100      Product         unlimited             Automotive  \n",
       "3        1000+      Product         unlimited               Сommerce  \n",
       "4     100-1000      Product         unlimited             Automotive  "
      ]
     },
     "execution_count": 94,
     "metadata": {},
     "output_type": "execute_result"
    }
   ],
   "source": [
    "df.head()"
   ]
  },
  {
   "cell_type": "code",
   "execution_count": 95,
   "id": "41bba112",
   "metadata": {},
   "outputs": [
    {
     "data": {
      "text/plain": [
       "0"
      ]
     },
     "execution_count": 95,
     "metadata": {},
     "output_type": "execute_result"
    }
   ],
   "source": [
    "df['experience_years'].min()"
   ]
  },
  {
   "cell_type": "code",
   "execution_count": 96,
   "id": "a158d3b3",
   "metadata": {},
   "outputs": [
    {
     "data": {
      "text/plain": [
       "30"
      ]
     },
     "execution_count": 96,
     "metadata": {},
     "output_type": "execute_result"
    }
   ],
   "source": [
    "df['experience_years'].max()"
   ]
  },
  {
   "cell_type": "code",
   "execution_count": 97,
   "id": "4dc896cd",
   "metadata": {},
   "outputs": [
    {
     "data": {
      "text/plain": [
       "<AxesSubplot:xlabel='experience_years', ylabel='Count'>"
      ]
     },
     "execution_count": 97,
     "metadata": {},
     "output_type": "execute_result"
    },
    {
     "data": {
      "image/png": "[encoded data removed]",
      "text/plain": [
       "<Figure size 432x288 with 1 Axes>"
      ]
     },
     "metadata": {
      "needs_background": "light"
     },
     "output_type": "display_data"
    }
   ],
   "source": [
    "sns.histplot(df['experience_years'], bins = 6, kde = True)"
   ]
  },
  {
   "cell_type": "code",
   "execution_count": 98,
   "id": "6c090357",
   "metadata": {},
   "outputs": [
    {
     "data": {
      "text/plain": [
       "<AxesSubplot:xlabel='yearly_brutto_salary_eur_2019', ylabel='Count'>"
      ]
     },
     "execution_count": 98,
     "metadata": {},
     "output_type": "execute_result"
    },
    {
     "data": {
      "image/png": "[encoded data removed]",
      "text/plain": [
       "<Figure size 432x288 with 1 Axes>"
      ]
     },
     "metadata": {
      "needs_background": "light"
     },
     "output_type": "display_data"
    }
   ],
   "source": [
    "sns.histplot(df['yearly_brutto_salary_eur_2019'], kde = True)"
   ]
  },
  {
   "cell_type": "code",
   "execution_count": 99,
   "id": "b74abbe8",
   "metadata": {},
   "outputs": [
    {
     "data": {
      "text/plain": [
       "<AxesSubplot:xlabel='yearly_brutto_salary_eur_2018', ylabel='Count'>"
      ]
     },
     "execution_count": 99,
     "metadata": {},
     "output_type": "execute_result"
    },
    {
     "data": {
      "image/png": "[encoded data removed]",
      "text/plain": [
       "<Figure size 432x288 with 1 Axes>"
      ]
     },
     "metadata": {
      "needs_background": "light"
     },
     "output_type": "display_data"
    }
   ],
   "source": [
    "sns.histplot(df['yearly_brutto_salary_eur_2018'], kde = True)"
   ]
  },
  {
   "cell_type": "code",
   "execution_count": 100,
   "id": "2efe78c5",
   "metadata": {},
   "outputs": [
    {
     "data": {
      "text/plain": [
       "<AxesSubplot:xlabel='count', ylabel='main_technology'>"
      ]
     },
     "execution_count": 100,
     "metadata": {},
     "output_type": "execute_result"
    },
    {
     "data": {
      "image/png": "[encoded data removed]",
      "text/plain": [
       "<Figure size 432x288 with 1 Axes>"
      ]
     },
     "metadata": {
      "needs_background": "light"
     },
     "output_type": "display_data"
    }
   ],
   "source": [
    "sns.countplot(y = df['main_technology'],\n",
    "              order = df['main_technology'].value_counts().iloc[:10].index)"
   ]
  },
  {
   "cell_type": "code",
   "execution_count": 101,
   "id": "65218490",
   "metadata": {},
   "outputs": [
    {
     "data": {
      "text/plain": [
       "<AxesSubplot:xlabel='count', ylabel='city'>"
      ]
     },
     "execution_count": 101,
     "metadata": {},
     "output_type": "execute_result"
    },
    {
     "data": {
      "image/png": "[encoded data removed]",
      "text/plain": [
       "<Figure size 432x288 with 1 Axes>"
      ]
     },
     "metadata": {
      "needs_background": "light"
     },
     "output_type": "display_data"
    }
   ],
   "source": [
    "sns.countplot(y = df['city'], \n",
    "             order = df['city'].value_counts().iloc[:10].index)"
   ]
  },
  {
   "cell_type": "code",
   "execution_count": 102,
   "id": "4fdce789",
   "metadata": {},
   "outputs": [
    {
     "data": {
      "text/plain": [
       "<AxesSubplot:xlabel='gender', ylabel='count'>"
      ]
     },
     "execution_count": 102,
     "metadata": {},
     "output_type": "execute_result"
    },
    {
     "data": {
      "image/png": "[encoded data removed]",
      "text/plain": [
       "<Figure size 432x288 with 1 Axes>"
      ]
     },
     "metadata": {
      "needs_background": "light"
     },
     "output_type": "display_data"
    }
   ],
   "source": [
    "sns.countplot(x = df['gender'])"
   ]
  },
  {
   "cell_type": "code",
   "execution_count": 103,
   "id": "24267158",
   "metadata": {},
   "outputs": [
    {
     "data": {
      "text/plain": [
       "<AxesSubplot:xlabel='seniority', ylabel='count'>"
      ]
     },
     "execution_count": 103,
     "metadata": {},
     "output_type": "execute_result"
    },
    {
     "data": {
      "image/png": "[encoded data removed]",
      "text/plain": [
       "<Figure size 432x288 with 1 Axes>"
      ]
     },
     "metadata": {
      "needs_background": "light"
     },
     "output_type": "display_data"
    }
   ],
   "source": [
    "sns.countplot(x = df['seniority'])"
   ]
  },
  {
   "cell_type": "code",
   "execution_count": 104,
   "id": "dcdbba7a",
   "metadata": {},
   "outputs": [
    {
     "data": {
      "text/plain": [
       "<AxesSubplot:xlabel='age', ylabel='Count'>"
      ]
     },
     "execution_count": 104,
     "metadata": {},
     "output_type": "execute_result"
    },
    {
     "data": {
      "image/png": "[encoded data removed]",
      "text/plain": [
       "<Figure size 432x288 with 1 Axes>"
      ]
     },
     "metadata": {
      "needs_background": "light"
     },
     "output_type": "display_data"
    }
   ],
   "source": [
    "sns.histplot(df['age'], kde = True)"
   ]
  },
  {
   "cell_type": "code",
   "execution_count": 105,
   "id": "ff8ef324",
   "metadata": {},
   "outputs": [
    {
     "data": {
      "text/plain": [
       "<AxesSubplot:xlabel='count', ylabel='position'>"
      ]
     },
     "execution_count": 105,
     "metadata": {},
     "output_type": "execute_result"
    },
    {
     "data": {
      "image/png": "[encoded data removed]",
      "text/plain": [
       "<Figure size 432x288 with 1 Axes>"
      ]
     },
     "metadata": {
      "needs_background": "light"
     },
     "output_type": "display_data"
    }
   ],
   "source": [
    "sns.countplot(y = df['position'], order = df['position'].value_counts().iloc[:10].index)"
   ]
  },
  {
   "cell_type": "code",
   "execution_count": 106,
   "id": "b2536799",
   "metadata": {},
   "outputs": [
    {
     "data": {
      "text/plain": [
       "<AxesSubplot:xlabel='vacation_days', ylabel='Count'>"
      ]
     },
     "execution_count": 106,
     "metadata": {},
     "output_type": "execute_result"
    },
    {
     "data": {
      "image/png": "[encoded data removed]",
      "text/plain": [
       "<Figure size 432x288 with 1 Axes>"
      ]
     },
     "metadata": {
      "needs_background": "light"
     },
     "output_type": "display_data"
    }
   ],
   "source": [
    "sns.histplot(df['vacation_days'], kde = True)"
   ]
  },
  {
   "cell_type": "code",
   "execution_count": 107,
   "id": "5a8786a4",
   "metadata": {},
   "outputs": [
    {
     "name": "stderr",
     "output_type": "stream",
     "text": [
      "C:\\Users\\jsmvk\\anaconda3\\lib\\site-packages\\seaborn\\_decorators.py:36: FutureWarning: Pass the following variable as a keyword arg: x. From version 0.12, the only valid positional argument will be `data`, and passing other arguments without an explicit keyword will result in an error or misinterpretation.\n",
      "  warnings.warn(\n"
     ]
    },
    {
     "data": {
      "text/plain": [
       "<AxesSubplot:xlabel='home_office_days_monthly'>"
      ]
     },
     "execution_count": 107,
     "metadata": {},
     "output_type": "execute_result"
    },
    {
     "data": {
      "image/png": "[encoded data removed]",
      "text/plain": [
       "<Figure size 432x288 with 1 Axes>"
      ]
     },
     "metadata": {
      "needs_background": "light"
     },
     "output_type": "display_data"
    }
   ],
   "source": [
    "sns.boxplot(df['home_office_days_monthly'])"
   ]
  },
  {
   "cell_type": "code",
   "execution_count": 108,
   "id": "c2f3a840",
   "metadata": {},
   "outputs": [
    {
     "name": "stderr",
     "output_type": "stream",
     "text": [
      "C:\\Users\\jsmvk\\anaconda3\\lib\\site-packages\\seaborn\\_decorators.py:36: FutureWarning: Pass the following variable as a keyword arg: x. From version 0.12, the only valid positional argument will be `data`, and passing other arguments without an explicit keyword will result in an error or misinterpretation.\n",
      "  warnings.warn(\n"
     ]
    },
    {
     "data": {
      "text/plain": [
       "<AxesSubplot:xlabel='work_language', ylabel='count'>"
      ]
     },
     "execution_count": 108,
     "metadata": {},
     "output_type": "execute_result"
    },
    {
     "data": {
      "image/png": "[encoded data removed]",
      "text/plain": [
       "<Figure size 432x288 with 1 Axes>"
      ]
     },
     "metadata": {
      "needs_background": "light"
     },
     "output_type": "display_data"
    }
   ],
   "source": [
    "sns.countplot(df['work_language'])"
   ]
  },
  {
   "cell_type": "code",
   "execution_count": 109,
   "id": "8ed41209",
   "metadata": {},
   "outputs": [
    {
     "name": "stderr",
     "output_type": "stream",
     "text": [
      "C:\\Users\\jsmvk\\anaconda3\\lib\\site-packages\\seaborn\\_decorators.py:36: FutureWarning: Pass the following variable as a keyword arg: x. From version 0.12, the only valid positional argument will be `data`, and passing other arguments without an explicit keyword will result in an error or misinterpretation.\n",
      "  warnings.warn(\n"
     ]
    },
    {
     "data": {
      "text/plain": [
       "<AxesSubplot:xlabel='company_size', ylabel='count'>"
      ]
     },
     "execution_count": 109,
     "metadata": {},
     "output_type": "execute_result"
    },
    {
     "data": {
      "image/png": "[encoded data removed]",
      "text/plain": [
       "<Figure size 432x288 with 1 Axes>"
      ]
     },
     "metadata": {
      "needs_background": "light"
     },
     "output_type": "display_data"
    }
   ],
   "source": [
    "sns.countplot(df['company_size'])"
   ]
  },
  {
   "cell_type": "code",
   "execution_count": 110,
   "id": "0a445f04",
   "metadata": {},
   "outputs": [
    {
     "data": {
      "text/plain": [
       "<AxesSubplot:xlabel='count', ylabel='company_type'>"
      ]
     },
     "execution_count": 110,
     "metadata": {},
     "output_type": "execute_result"
    },
    {
     "data": {
      "image/png": "[encoded data removed]",
      "text/plain": [
       "<Figure size 432x288 with 1 Axes>"
      ]
     },
     "metadata": {
      "needs_background": "light"
     },
     "output_type": "display_data"
    }
   ],
   "source": [
    "sns.countplot(y = df['company_type'])"
   ]
  },
  {
   "cell_type": "code",
   "execution_count": 111,
   "id": "183c452a",
   "metadata": {},
   "outputs": [
    {
     "data": {
      "text/plain": [
       "<AxesSubplot:xlabel='count', ylabel='contract_duration'>"
      ]
     },
     "execution_count": 111,
     "metadata": {},
     "output_type": "execute_result"
    },
    {
     "data": {
      "image/png": "[encoded data removed]",
      "text/plain": [
       "<Figure size 432x288 with 1 Axes>"
      ]
     },
     "metadata": {
      "needs_background": "light"
     },
     "output_type": "display_data"
    }
   ],
   "source": [
    "sns.countplot(y = df['contract_duration'])"
   ]
  },
  {
   "cell_type": "code",
   "execution_count": 112,
   "id": "413d7120",
   "metadata": {},
   "outputs": [
    {
     "data": {
      "text/plain": [
       "<AxesSubplot:xlabel='count', ylabel='business_industry'>"
      ]
     },
     "execution_count": 112,
     "metadata": {},
     "output_type": "execute_result"
    },
    {
     "data": {
      "image/png": "[encoded data removed]",
      "text/plain": [
       "<Figure size 432x288 with 1 Axes>"
      ]
     },
     "metadata": {
      "needs_background": "light"
     },
     "output_type": "display_data"
    }
   ],
   "source": [
    "sns.countplot(y = df['business_industry'], order = df['business_industry'].value_counts().iloc[:10].index)"
   ]
  },
  {
   "cell_type": "code",
   "execution_count": 113,
   "id": "10f76a6e",
   "metadata": {},
   "outputs": [
    {
     "data": {
      "text/plain": [
       "<AxesSubplot:xlabel='yearly_stocks', ylabel='Count'>"
      ]
     },
     "execution_count": 113,
     "metadata": {},
     "output_type": "execute_result"
    },
    {
     "data": {
      "image/png": "[encoded data removed]",
      "text/plain": [
       "<Figure size 432x288 with 1 Axes>"
      ]
     },
     "metadata": {
      "needs_background": "light"
     },
     "output_type": "display_data"
    }
   ],
   "source": [
    "sns.histplot(df['yearly_stocks'], kde = True)"
   ]
  },
  {
   "cell_type": "code",
   "execution_count": 114,
   "id": "d5cb286a",
   "metadata": {},
   "outputs": [
    {
     "data": {
      "text/plain": [
       "<AxesSubplot:xlabel='yearly_stocks_2018', ylabel='Count'>"
      ]
     },
     "execution_count": 114,
     "metadata": {},
     "output_type": "execute_result"
    },
    {
     "data": {
      "image/png": "[encoded data removed]",
      "text/plain": [
       "<Figure size 432x288 with 1 Axes>"
      ]
     },
     "metadata": {
      "needs_background": "light"
     },
     "output_type": "display_data"
    }
   ],
   "source": [
    "sns.histplot(df['yearly_stocks_2018'], kde = True)"
   ]
  },
  {
   "cell_type": "code",
   "execution_count": 115,
   "id": "a1937761",
   "metadata": {},
   "outputs": [
    {
     "data": {
      "text/plain": [
       "<AxesSubplot:xlabel='yearly_bonus_eur_2018', ylabel='Count'>"
      ]
     },
     "execution_count": 115,
     "metadata": {},
     "output_type": "execute_result"
    },
    {
     "data": {
      "image/png": "[encoded data removed]",
      "text/plain": [
       "<Figure size 432x288 with 1 Axes>"
      ]
     },
     "metadata": {
      "needs_background": "light"
     },
     "output_type": "display_data"
    }
   ],
   "source": [
    "sns.histplot(df['yearly_bonus_eur_2018'], kde = True)"
   ]
  },
  {
   "cell_type": "code",
   "execution_count": 116,
   "id": "0c56b433",
   "metadata": {},
   "outputs": [
    {
     "data": {
      "text/plain": [
       "<AxesSubplot:xlabel='yearly_bonus_eur_2019', ylabel='Count'>"
      ]
     },
     "execution_count": 116,
     "metadata": {},
     "output_type": "execute_result"
    },
    {
     "data": {
      "image/png": "[encoded data removed]",
      "text/plain": [
       "<Figure size 432x288 with 1 Axes>"
      ]
     },
     "metadata": {
      "needs_background": "light"
     },
     "output_type": "display_data"
    }
   ],
   "source": [
    "sns.histplot(df['yearly_bonus_eur_2019'], kde = True)"
   ]
  },
  {
   "cell_type": "markdown",
   "id": "c6c66270",
   "metadata": {},
   "source": [
    "## Correlation"
   ]
  },
  {
   "cell_type": "code",
   "execution_count": 117,
   "id": "c424a95b",
   "metadata": {},
   "outputs": [
    {
     "data": {
      "text/html": [
       "<div>\n",
       "<style scoped>\n",
       "    .dataframe tbody tr th:only-of-type {\n",
       "        vertical-align: middle;\n",
       "    }\n",
       "\n",
       "    .dataframe tbody tr th {\n",
       "        vertical-align: top;\n",
       "    }\n",
       "\n",
       "    .dataframe thead th {\n",
       "        text-align: right;\n",
       "    }\n",
       "</style>\n",
       "<table border=\"1\" class=\"dataframe\">\n",
       "  <thead>\n",
       "    <tr style=\"text-align: right;\">\n",
       "      <th></th>\n",
       "      <th>age</th>\n",
       "      <th>experience_years</th>\n",
       "      <th>yearly_brutto_salary_eur_2019</th>\n",
       "      <th>yearly_bonus_eur_2019</th>\n",
       "      <th>yearly_stocks</th>\n",
       "      <th>yearly_brutto_salary_eur_2018</th>\n",
       "      <th>yearly_bonus_eur_2018</th>\n",
       "      <th>yearly_stocks_2018</th>\n",
       "      <th>vacation_days</th>\n",
       "      <th>home_office_days_monthly</th>\n",
       "    </tr>\n",
       "  </thead>\n",
       "  <tbody>\n",
       "    <tr>\n",
       "      <th>age</th>\n",
       "      <td>1.000000</td>\n",
       "      <td>0.621263</td>\n",
       "      <td>0.228223</td>\n",
       "      <td>0.074646</td>\n",
       "      <td>0.006541</td>\n",
       "      <td>0.300905</td>\n",
       "      <td>0.074646</td>\n",
       "      <td>0.012001</td>\n",
       "      <td>-0.033255</td>\n",
       "      <td>0.057598</td>\n",
       "    </tr>\n",
       "    <tr>\n",
       "      <th>experience_years</th>\n",
       "      <td>0.621263</td>\n",
       "      <td>1.000000</td>\n",
       "      <td>0.400109</td>\n",
       "      <td>0.159655</td>\n",
       "      <td>0.052998</td>\n",
       "      <td>0.448877</td>\n",
       "      <td>0.159655</td>\n",
       "      <td>0.095856</td>\n",
       "      <td>-0.051062</td>\n",
       "      <td>0.095949</td>\n",
       "    </tr>\n",
       "    <tr>\n",
       "      <th>yearly_brutto_salary_eur_2019</th>\n",
       "      <td>0.228223</td>\n",
       "      <td>0.400109</td>\n",
       "      <td>1.000000</td>\n",
       "      <td>0.322660</td>\n",
       "      <td>0.250983</td>\n",
       "      <td>0.916112</td>\n",
       "      <td>0.322660</td>\n",
       "      <td>0.196675</td>\n",
       "      <td>0.011442</td>\n",
       "      <td>0.146440</td>\n",
       "    </tr>\n",
       "    <tr>\n",
       "      <th>yearly_bonus_eur_2019</th>\n",
       "      <td>0.074646</td>\n",
       "      <td>0.159655</td>\n",
       "      <td>0.322660</td>\n",
       "      <td>1.000000</td>\n",
       "      <td>0.203858</td>\n",
       "      <td>0.288867</td>\n",
       "      <td>1.000000</td>\n",
       "      <td>0.254320</td>\n",
       "      <td>0.085758</td>\n",
       "      <td>0.062078</td>\n",
       "    </tr>\n",
       "    <tr>\n",
       "      <th>yearly_stocks</th>\n",
       "      <td>0.006541</td>\n",
       "      <td>0.052998</td>\n",
       "      <td>0.250983</td>\n",
       "      <td>0.203858</td>\n",
       "      <td>1.000000</td>\n",
       "      <td>0.199937</td>\n",
       "      <td>0.203858</td>\n",
       "      <td>0.623209</td>\n",
       "      <td>-0.125121</td>\n",
       "      <td>0.051826</td>\n",
       "    </tr>\n",
       "    <tr>\n",
       "      <th>yearly_brutto_salary_eur_2018</th>\n",
       "      <td>0.300905</td>\n",
       "      <td>0.448877</td>\n",
       "      <td>0.916112</td>\n",
       "      <td>0.288867</td>\n",
       "      <td>0.199937</td>\n",
       "      <td>1.000000</td>\n",
       "      <td>0.288867</td>\n",
       "      <td>0.176431</td>\n",
       "      <td>0.011397</td>\n",
       "      <td>0.123566</td>\n",
       "    </tr>\n",
       "    <tr>\n",
       "      <th>yearly_bonus_eur_2018</th>\n",
       "      <td>0.074646</td>\n",
       "      <td>0.159655</td>\n",
       "      <td>0.322660</td>\n",
       "      <td>1.000000</td>\n",
       "      <td>0.203858</td>\n",
       "      <td>0.288867</td>\n",
       "      <td>1.000000</td>\n",
       "      <td>0.254320</td>\n",
       "      <td>0.085758</td>\n",
       "      <td>0.062078</td>\n",
       "    </tr>\n",
       "    <tr>\n",
       "      <th>yearly_stocks_2018</th>\n",
       "      <td>0.012001</td>\n",
       "      <td>0.095856</td>\n",
       "      <td>0.196675</td>\n",
       "      <td>0.254320</td>\n",
       "      <td>0.623209</td>\n",
       "      <td>0.176431</td>\n",
       "      <td>0.254320</td>\n",
       "      <td>1.000000</td>\n",
       "      <td>0.037012</td>\n",
       "      <td>0.052962</td>\n",
       "    </tr>\n",
       "    <tr>\n",
       "      <th>vacation_days</th>\n",
       "      <td>-0.033255</td>\n",
       "      <td>-0.051062</td>\n",
       "      <td>0.011442</td>\n",
       "      <td>0.085758</td>\n",
       "      <td>-0.125121</td>\n",
       "      <td>0.011397</td>\n",
       "      <td>0.085758</td>\n",
       "      <td>0.037012</td>\n",
       "      <td>1.000000</td>\n",
       "      <td>0.004196</td>\n",
       "    </tr>\n",
       "    <tr>\n",
       "      <th>home_office_days_monthly</th>\n",
       "      <td>0.057598</td>\n",
       "      <td>0.095949</td>\n",
       "      <td>0.146440</td>\n",
       "      <td>0.062078</td>\n",
       "      <td>0.051826</td>\n",
       "      <td>0.123566</td>\n",
       "      <td>0.062078</td>\n",
       "      <td>0.052962</td>\n",
       "      <td>0.004196</td>\n",
       "      <td>1.000000</td>\n",
       "    </tr>\n",
       "  </tbody>\n",
       "</table>\n",
       "</div>"
      ],
      "text/plain": [
       "                                    age  experience_years  \\\n",
       "age                            1.000000          0.621263   \n",
       "experience_years               0.621263          1.000000   \n",
       "yearly_brutto_salary_eur_2019  0.228223          0.400109   \n",
       "yearly_bonus_eur_2019          0.074646          0.159655   \n",
       "yearly_stocks                  0.006541          0.052998   \n",
       "yearly_brutto_salary_eur_2018  0.300905          0.448877   \n",
       "yearly_bonus_eur_2018          0.074646          0.159655   \n",
       "yearly_stocks_2018             0.012001          0.095856   \n",
       "vacation_days                 -0.033255         -0.051062   \n",
       "home_office_days_monthly       0.057598          0.095949   \n",
       "\n",
       "                               yearly_brutto_salary_eur_2019  \\\n",
       "age                                                 0.228223   \n",
       "experience_years                                    0.400109   \n",
       "yearly_brutto_salary_eur_2019                       1.000000   \n",
       "yearly_bonus_eur_2019                               0.322660   \n",
       "yearly_stocks                                       0.250983   \n",
       "yearly_brutto_salary_eur_2018                       0.916112   \n",
       "yearly_bonus_eur_2018                               0.322660   \n",
       "yearly_stocks_2018                                  0.196675   \n",
       "vacation_days                                       0.011442   \n",
       "home_office_days_monthly                            0.146440   \n",
       "\n",
       "                               yearly_bonus_eur_2019  yearly_stocks  \\\n",
       "age                                         0.074646       0.006541   \n",
       "experience_years                            0.159655       0.052998   \n",
       "yearly_brutto_salary_eur_2019               0.322660       0.250983   \n",
       "yearly_bonus_eur_2019                       1.000000       0.203858   \n",
       "yearly_stocks                               0.203858       1.000000   \n",
       "yearly_brutto_salary_eur_2018               0.288867       0.199937   \n",
       "yearly_bonus_eur_2018                       1.000000       0.203858   \n",
       "yearly_stocks_2018                          0.254320       0.623209   \n",
       "vacation_days                               0.085758      -0.125121   \n",
       "home_office_days_monthly                    0.062078       0.051826   \n",
       "\n",
       "                               yearly_brutto_salary_eur_2018  \\\n",
       "age                                                 0.300905   \n",
       "experience_years                                    0.448877   \n",
       "yearly_brutto_salary_eur_2019                       0.916112   \n",
       "yearly_bonus_eur_2019                               0.288867   \n",
       "yearly_stocks                                       0.199937   \n",
       "yearly_brutto_salary_eur_2018                       1.000000   \n",
       "yearly_bonus_eur_2018                               0.288867   \n",
       "yearly_stocks_2018                                  0.176431   \n",
       "vacation_days                                       0.011397   \n",
       "home_office_days_monthly                            0.123566   \n",
       "\n",
       "                               yearly_bonus_eur_2018  yearly_stocks_2018  \\\n",
       "age                                         0.074646            0.012001   \n",
       "experience_years                            0.159655            0.095856   \n",
       "yearly_brutto_salary_eur_2019               0.322660            0.196675   \n",
       "yearly_bonus_eur_2019                       1.000000            0.254320   \n",
       "yearly_stocks                               0.203858            0.623209   \n",
       "yearly_brutto_salary_eur_2018               0.288867            0.176431   \n",
       "yearly_bonus_eur_2018                       1.000000            0.254320   \n",
       "yearly_stocks_2018                          0.254320            1.000000   \n",
       "vacation_days                               0.085758            0.037012   \n",
       "home_office_days_monthly                    0.062078            0.052962   \n",
       "\n",
       "                               vacation_days  home_office_days_monthly  \n",
       "age                                -0.033255                  0.057598  \n",
       "experience_years                   -0.051062                  0.095949  \n",
       "yearly_brutto_salary_eur_2019       0.011442                  0.146440  \n",
       "yearly_bonus_eur_2019               0.085758                  0.062078  \n",
       "yearly_stocks                      -0.125121                  0.051826  \n",
       "yearly_brutto_salary_eur_2018       0.011397                  0.123566  \n",
       "yearly_bonus_eur_2018               0.085758                  0.062078  \n",
       "yearly_stocks_2018                  0.037012                  0.052962  \n",
       "vacation_days                       1.000000                  0.004196  \n",
       "home_office_days_monthly            0.004196                  1.000000  "
      ]
     },
     "execution_count": 117,
     "metadata": {},
     "output_type": "execute_result"
    }
   ],
   "source": [
    "df.corr()"
   ]
  },
  {
   "cell_type": "code",
   "execution_count": 118,
   "id": "876e17eb",
   "metadata": {},
   "outputs": [
    {
     "data": {
      "text/plain": [
       "<seaborn.axisgrid.PairGrid at 0x266bd25f340>"
      ]
     },
     "execution_count": 118,
     "metadata": {},
     "output_type": "execute_result"
    },
    {
     "data": {
      "image/png": "[encoded data removed]",
      "text/plain": [
       "<Figure size 798.875x720 with 20 Axes>"
      ]
     },
     "metadata": {
      "needs_background": "light"
     },
     "output_type": "display_data"
    }
   ],
   "source": [
    "sns.pairplot(df, hue = 'seniority', \n",
    "             vars = ['experience_years', 'age', 'yearly_brutto_salary_eur_2018', 'yearly_brutto_salary_eur_2019'])"
   ]
  },
  {
   "cell_type": "code",
   "execution_count": null,
   "id": "f9d772dc",
   "metadata": {},
   "outputs": [],
   "source": []
  }
 ],
 "metadata": {
  "kernelspec": {
   "display_name": "Python 3 (ipykernel)",
   "language": "python",
   "name": "python3"
  },
  "language_info": {
   "codemirror_mode": {
    "name": "ipython",
    "version": 3
   },
   "file_extension": ".py",
   "mimetype": "text/x-python",
   "name": "python",
   "nbconvert_exporter": "python",
   "pygments_lexer": "ipython3",
   "version": "3.9.7"
  }
 },
 "nbformat": 4,
 "nbformat_minor": 5
}
